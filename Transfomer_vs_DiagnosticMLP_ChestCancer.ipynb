{
  "nbformat": 4,
  "nbformat_minor": 0,
  "metadata": {
    "colab": {
      "provenance": [],
      "toc_visible": true,
      "machine_shape": "hm",
      "gpuType": "A100",
      "authorship_tag": "ABX9TyP7/v4JTcHCsGG9InsGu04V",
      "include_colab_link": true
    },
    "kernelspec": {
      "name": "python3",
      "display_name": "Python 3"
    },
    "language_info": {
      "name": "python"
    },
    "accelerator": "GPU"
  },
  "cells": [
    {
      "cell_type": "markdown",
      "metadata": {
        "id": "view-in-github",
        "colab_type": "text"
      },
      "source": [
        "<a href=\"https://colab.research.google.com/github/SalhaAlzahrani/DiagnosticMLP/blob/main/Transfomer_vs_DiagnosticMLP_ChestCancer.ipynb\" target=\"_parent\"><img src=\"https://colab.research.google.com/assets/colab-badge.svg\" alt=\"Open In Colab\"/></a>"
      ]
    },
    {
      "cell_type": "markdown",
      "source": [
        "# 🟨 DiagnosticMLP versus Transfomer Architectures: CT Image classification - Chest Cancer Dataset\n"
      ],
      "metadata": {
        "id": "1nKGkdT0GmAr"
      }
    },
    {
      "cell_type": "code",
      "source": [
        "!pip install nest_asyncio\n",
        "!pip install -U -q tensorflow-addons"
      ],
      "metadata": {
        "id": "mopXtqwVGoFb",
        "colab": {
          "base_uri": "https://localhost:8080/"
        },
        "outputId": "bbd04968-d6b9-45fa-d59a-d43c88abf3a2"
      },
      "execution_count": null,
      "outputs": [
        {
          "output_type": "stream",
          "name": "stdout",
          "text": [
            "Requirement already satisfied: nest_asyncio in /usr/local/lib/python3.10/dist-packages (1.6.0)\n",
            "\u001b[2K     \u001b[90m━━━━━━━━━━━━━━━━━━━━━━━━━━━━━━━━━━━━━━━━\u001b[0m \u001b[32m611.8/611.8 kB\u001b[0m \u001b[31m4.4 MB/s\u001b[0m eta \u001b[36m0:00:00\u001b[0m\n",
            "\u001b[?25h"
          ]
        }
      ]
    },
    {
      "cell_type": "code",
      "source": [
        "import numpy as np\n",
        "import tensorflow as tf\n",
        "from tensorflow import keras\n",
        "from keras import layers\n",
        "import tensorflow_addons as tfa\n",
        "from keras.preprocessing import image_dataset_from_directory\n",
        "import matplotlib.pyplot as plt\n",
        "import numpy as np\n",
        "import os\n",
        "from sklearn.utils.class_weight import compute_class_weight\n",
        "from sklearn.utils import class_weight\n",
        "import math\n",
        "import nest_asyncio\n",
        "from google.colab import drive\n",
        "drive.mount('/content/drive', force_remount=True)"
      ],
      "metadata": {
        "id": "HNhBHPBIGt3c",
        "colab": {
          "base_uri": "https://localhost:8080/"
        },
        "outputId": "a09cb219-b493-48ab-de60-a7ed3a8e6847"
      },
      "execution_count": null,
      "outputs": [
        {
          "output_type": "stream",
          "name": "stderr",
          "text": [
            "/usr/local/lib/python3.10/dist-packages/tensorflow_addons/utils/tfa_eol_msg.py:23: UserWarning: \n",
            "\n",
            "TensorFlow Addons (TFA) has ended development and introduction of new features.\n",
            "TFA has entered a minimal maintenance and release mode until a planned end of life in May 2024.\n",
            "Please modify downstream libraries to take dependencies from other repositories in our TensorFlow community (e.g. Keras, Keras-CV, and Keras-NLP). \n",
            "\n",
            "For more information see: https://github.com/tensorflow/addons/issues/2807 \n",
            "\n",
            "  warnings.warn(\n"
          ]
        },
        {
          "output_type": "stream",
          "name": "stdout",
          "text": [
            "Mounted at /content/drive\n"
          ]
        }
      ]
    },
    {
      "cell_type": "markdown",
      "source": [
        "\n",
        "\n",
        "---\n",
        "\n",
        "## 🟡 plot_training_curves"
      ],
      "metadata": {
        "id": "vgWj9LwkSQMY"
      }
    },
    {
      "cell_type": "code",
      "source": [
        "def plot_training_curves(history, title):\n",
        "    loss = np.array(history.history['loss'])\n",
        "    val_loss = np.array(history.history['val_loss'])\n",
        "    epochs = range(len(history.history['loss']))\n",
        "    accuracy = np.array(history.history['accuracy'])\n",
        "    val_accuracy = np.array(history.history['val_accuracy'])\n",
        "\n",
        "    plt.style.use('bmh') #ggplot #bmh\n",
        "    fig, (ax1, ax2) = plt.subplots(1, 2, figsize=(10, 2.5))\n",
        "    fig.patch.set_facecolor('xkcd:white')\n",
        "\n",
        "    # Plot loss\n",
        "    ax1.plot(epochs, loss, label='training_loss', marker='.', )\n",
        "    ax1.plot(epochs, val_loss, label='val_loss', marker='.', )\n",
        "    ax1.fill_between(epochs, loss, val_loss, where=(loss > val_loss), color='C0', alpha=0.3, interpolate=True)\n",
        "    ax1.fill_between(epochs, loss, val_loss, where=(loss < val_loss), color='C1', alpha=0.3, interpolate=True)\n",
        "    ax1.set_title('Loss: '+title, fontsize=10)\n",
        "    ax1.set_xlabel('Epochs', fontsize=10)\n",
        "    ax1.legend(fontsize=10)\n",
        "\n",
        "    # Plot accuracy\n",
        "    ax2.set_ylim(ymin=0, ymax=1.1)\n",
        "    ax2.plot(epochs, accuracy, label='training_accuracy', marker='.')\n",
        "    ax2.plot(epochs, val_accuracy, label='val_accuracy', marker='.')\n",
        "    ax2.fill_between(epochs, accuracy, val_accuracy, where=(accuracy > val_accuracy), color='C0', alpha=0.3, interpolate=True)\n",
        "    ax2.fill_between(epochs, accuracy, val_accuracy, where=(accuracy < val_accuracy), color='C1', alpha=0.3, interpolate=True)\n",
        "    ax2.set_title('Accuracy: '+title, fontsize=10)\n",
        "    ax2.set_xlabel('Epochs', fontsize=10)\n",
        "    ax2.legend(fontsize=10)"
      ],
      "metadata": {
        "id": "Ozp76NjW5X5G"
      },
      "execution_count": null,
      "outputs": []
    },
    {
      "cell_type": "markdown",
      "source": [
        "## 🟡 Hyperparameters\n"
      ],
      "metadata": {
        "id": "l3W-yBgquIg0"
      }
    },
    {
      "cell_type": "code",
      "source": [
        "path = '/content/drive/MyDrive/_MyResearch_/CT_Datasets/Computed Tomography (CT) - Chest Cancer/'\n",
        "\n",
        "image_size = 64 # We'll resize input images to this size.\n",
        "patch_size = 256\n",
        "input_shape = (64, 64, 3)\n",
        "learning_rate = 0.001\n",
        "weight_decay = 0.0001\n",
        "batch_size = 128\n",
        "num_epochs = 100\n",
        "dropout_rate = 0.2\n",
        "label_smoothing = 0.1\n",
        "\n",
        "patch_size = 2  # Size of the patches to be extracted from the input images.\n",
        "num_patches = (input_shape[0] // patch_size) ** 2  # Number of patch\n",
        "embedding_dim = 64  # Number of hidden units.\n",
        "mlp_dim = 64\n",
        "dim_coefficient = 4\n",
        "num_heads = 4\n",
        "attention_dropout = 0.2\n",
        "projection_dropout = 0.2\n",
        "num_transformer_blocks = 8  # Number of repetitions of the transformer layer\n",
        "\n",
        "print(f\"Image size: {image_size} X {image_size} = {image_size ** 2}\")\n",
        "print(f\"Patch size: {patch_size} X {patch_size} = {patch_size ** 2} \")\n",
        "print(f\"Patches per image: {num_patches}\")\n",
        "print(f\"Elements per patch (3 channels): {(patch_size ** 2) * 3}\")"
      ],
      "metadata": {
        "colab": {
          "base_uri": "https://localhost:8080/"
        },
        "id": "YNqA5UN4G2sG",
        "outputId": "58ba291d-a5c0-4911-aad8-7ef306419c71"
      },
      "execution_count": null,
      "outputs": [
        {
          "output_type": "stream",
          "name": "stdout",
          "text": [
            "Image size: 64 X 64 = 4096\n",
            "Patch size: 2 X 2 = 4 \n",
            "Patches per image: 1024\n",
            "Elements per patch (3 channels): 12\n"
          ]
        }
      ]
    },
    {
      "cell_type": "markdown",
      "source": [
        "## 🟡 Dataset\n"
      ],
      "metadata": {
        "id": "LuhYuTpDuLcU"
      }
    },
    {
      "cell_type": "code",
      "source": [
        "# train data\n",
        "train_ds = image_dataset_from_directory(\n",
        "    directory= path,\n",
        "    labels='inferred',\n",
        "    label_mode='categorical',\n",
        "    batch_size=32,\n",
        "    image_size=(image_size, image_size),\n",
        "    color_mode='rgb',\n",
        "    seed=128,\n",
        "    validation_split=0.1,\n",
        "    subset='training',\n",
        "    interpolation='bilinear',\n",
        "    follow_links=False,\n",
        "    crop_to_aspect_ratio=False,\n",
        ")\n",
        "# validation data\n",
        "val_ds = image_dataset_from_directory(\n",
        "    directory= path,\n",
        "    labels='inferred',\n",
        "    label_mode='categorical',\n",
        "    batch_size=32,\n",
        "    image_size=(image_size, image_size),\n",
        "    color_mode='rgb',\n",
        "    seed=128,\n",
        "    validation_split=0.1,\n",
        "    subset='validation',\n",
        "    interpolation='bilinear',\n",
        "    follow_links=False,\n",
        "    crop_to_aspect_ratio=False,\n",
        ")"
      ],
      "metadata": {
        "colab": {
          "base_uri": "https://localhost:8080/"
        },
        "id": "5gjE5O2W_V-j",
        "outputId": "588bbd44-cce8-4564-fd63-a09a32229fdd"
      },
      "execution_count": null,
      "outputs": [
        {
          "output_type": "stream",
          "name": "stdout",
          "text": [
            "Found 982 files belonging to 4 classes.\n",
            "Using 884 files for training.\n",
            "Found 982 files belonging to 4 classes.\n",
            "Using 98 files for validation.\n"
          ]
        }
      ]
    },
    {
      "cell_type": "code",
      "source": [
        "class_names = train_ds.class_names\n",
        "print(class_names)\n",
        "##################\n",
        "num_classes = len(class_names)\n",
        "##################\n",
        "num_images_per_class = []\n",
        "for label in class_names:\n",
        "    dir_name = path + label\n",
        "    num_images_per_class.append(len([name for name in os.listdir(dir_name)]))\n",
        "# y_train=list of train labels wrt to given directory format\n",
        "y_train=[]\n",
        "for i in range(0, len(num_images_per_class)):\n",
        "    y_train+=[i]*num_images_per_class[i]\n",
        "classes = list()\n",
        "for i in range(num_classes): classes.append(i)\n",
        "class_weights = compute_class_weight(class_weight=\"balanced\", classes=classes, y=np.asarray(y_train))\n",
        "class_weights_dict = {}\n",
        "for i in range(len(class_weights)):\n",
        "   class_weights_dict[i] = class_weights[i]\n",
        "class_weights_dict"
      ],
      "metadata": {
        "id": "HshcZsaaEWx8",
        "colab": {
          "base_uri": "https://localhost:8080/"
        },
        "outputId": "6a2057fb-0dc9-47a6-b413-400fb3a620a1"
      },
      "execution_count": null,
      "outputs": [
        {
          "output_type": "stream",
          "name": "stdout",
          "text": [
            "['Adenocarcinoma', 'Large cell carcinoma', 'Normal', 'Squamous Cell Carcinoma']\n"
          ]
        },
        {
          "output_type": "execute_result",
          "data": {
            "text/plain": [
              "{0: 0.7372372372372372,\n",
              " 1: 1.387005649717514,\n",
              " 2: 1.1418604651162791,\n",
              " 3: 0.9552529182879378}"
            ]
          },
          "metadata": {},
          "execution_count": 6
        }
      ]
    },
    {
      "cell_type": "code",
      "source": [
        "#Configure the dataset for performance\n",
        "AUTOTUNE = tf.data.AUTOTUNE\n",
        "train_ds = train_ds.prefetch(buffer_size=AUTOTUNE)\n",
        "val_ds = val_ds.prefetch(buffer_size=AUTOTUNE)"
      ],
      "metadata": {
        "id": "mBEcQstyvKpZ"
      },
      "execution_count": null,
      "outputs": []
    },
    {
      "cell_type": "markdown",
      "source": [
        "## 🟡 Experiment\n",
        "We implement a utility function to compile, train, and evaluate a given model."
      ],
      "metadata": {
        "id": "RrzGt8gWuVQ8"
      }
    },
    {
      "cell_type": "code",
      "source": [
        "def run_experiment(model):\n",
        "    # Create Adam optimizer with weight decay.\n",
        "    optimizer = tfa.optimizers.AdamW(\n",
        "        learning_rate=learning_rate, weight_decay=weight_decay,\n",
        "    )\n",
        "    # Compile the model.\n",
        "    model.compile(\n",
        "        optimizer=optimizer,\n",
        "        loss=keras.losses.CategoricalCrossentropy(from_logits=True),\n",
        "        metrics=[\n",
        "            keras.metrics.CategoricalAccuracy(name=\"accuracy\"),\n",
        "            keras.metrics.TopKCategoricalAccuracy(5, name=\"top5-acc\"),\n",
        "            keras.metrics.MeanSquaredError(name='Brier score'),\n",
        "            keras.metrics.F1Score(name='F1 score'),\n",
        "            keras.metrics.Recall(name='Recall'),\n",
        "            keras.metrics.Precision(name='Precision'),\n",
        "            keras.metrics.AUC(name='AUC'),\n",
        "        ],\n",
        "    )\n",
        "    # Create a learning rate scheduler callback.\n",
        "    reduce_lr = keras.callbacks.ReduceLROnPlateau(\n",
        "        monitor=\"val_loss\", factor=0.5, patience=5\n",
        "    )\n",
        "    # Create an early stopping callback.\n",
        "    early_stopping = tf.keras.callbacks.EarlyStopping(\n",
        "        monitor=\"val_loss\", patience=10, restore_best_weights=True\n",
        "    )\n",
        "    # Fit the model.\n",
        "    history = model.fit(\n",
        "        train_ds,\n",
        "        validation_data = val_ds,\n",
        "        batch_size=batch_size,\n",
        "        epochs=num_epochs,\n",
        "        validation_split=0.1,\n",
        "        class_weight=class_weights_dict,\n",
        "        callbacks=[early_stopping, reduce_lr],\n",
        "    )\n",
        "    # Return history to plot learning curves.\n",
        "    return history"
      ],
      "metadata": {
        "id": "gXUyIjJPG9vf"
      },
      "execution_count": null,
      "outputs": []
    },
    {
      "cell_type": "markdown",
      "source": [
        "## 🟡 Augmentation\n"
      ],
      "metadata": {
        "id": "A6NrVSKKueYg"
      }
    },
    {
      "cell_type": "code",
      "source": [
        "data_augmentation = keras.Sequential(\n",
        "    [\n",
        "        layers.Normalization(),\n",
        "        layers.RandomFlip('horizontal_and_vertical'),\n",
        "        layers.RandomZoom(\n",
        "            height_factor=0.2, width_factor=0.2\n",
        "        ),\n",
        "        layers.RandomContrast(factor=0.2),\n",
        "        layers.RandomCrop(height=image_size, width=image_size),\n",
        "        layers.RandomBrightness(factor=0.2),\n",
        "    ],\n",
        "    name=\"data_augmentation\",\n",
        ")"
      ],
      "metadata": {
        "id": "lLxdPmdwHAH-"
      },
      "execution_count": null,
      "outputs": []
    },
    {
      "cell_type": "markdown",
      "source": [
        "\n",
        "\n",
        "---\n",
        "\n"
      ],
      "metadata": {
        "id": "C75bpi2CTodJ"
      }
    },
    {
      "cell_type": "markdown",
      "metadata": {
        "id": "a8ee03e3"
      },
      "source": [
        "# Implement the patch extraction and encoding layer\n"
      ]
    },
    {
      "cell_type": "code",
      "execution_count": null,
      "metadata": {
        "id": "f7f1fabb"
      },
      "outputs": [],
      "source": [
        "class PatchExtract(layers.Layer):\n",
        "    def __init__(self, patch_size, **kwargs):\n",
        "        super().__init__(**kwargs)\n",
        "        self.patch_size = patch_size\n",
        "\n",
        "    def call(self, images):\n",
        "        batch_size = tf.shape(images)[0]\n",
        "        patches = tf.image.extract_patches(\n",
        "            images=images,\n",
        "            sizes=(1, self.patch_size, self.patch_size, 1),\n",
        "            strides=(1, self.patch_size, self.patch_size, 1),\n",
        "            rates=(1, 1, 1, 1),\n",
        "            padding=\"VALID\",\n",
        "        )\n",
        "        patch_dim = patches.shape[-1]\n",
        "        patch_num = patches.shape[1]\n",
        "        return tf.reshape(patches, (batch_size, patch_num * patch_num, patch_dim))\n",
        "\n",
        "\n",
        "class PatchEmbedding(layers.Layer):\n",
        "    def __init__(self, num_patch, embed_dim, **kwargs):\n",
        "        super().__init__(**kwargs)\n",
        "        self.num_patch = num_patch\n",
        "        self.proj = layers.Dense(embed_dim)\n",
        "        self.pos_embed = layers.Embedding(input_dim=num_patch, output_dim=embed_dim)\n",
        "\n",
        "    def call(self, patch):\n",
        "        pos = tf.range(start=0, limit=self.num_patch, delta=1)\n",
        "        return self.proj(patch) + self.pos_embed(pos)\n"
      ]
    },
    {
      "cell_type": "markdown",
      "metadata": {
        "id": "a93748a8"
      },
      "source": [
        "# Implement the external attention block\n"
      ]
    },
    {
      "cell_type": "code",
      "execution_count": null,
      "metadata": {
        "id": "10b3bbc3"
      },
      "outputs": [],
      "source": [
        "def external_attention(\n",
        "    x, dim, num_heads, dim_coefficient=4, attention_dropout=0, projection_dropout=0\n",
        "):\n",
        "    _, num_patch, channel = x.shape\n",
        "    assert dim % num_heads == 0\n",
        "    num_heads = num_heads * dim_coefficient\n",
        "\n",
        "    x = layers.Dense(dim * dim_coefficient)(x)\n",
        "    # create tensor [batch_size, num_patches, num_heads, dim*dim_coefficient//num_heads]\n",
        "    x = tf.reshape(\n",
        "        x, shape=(-1, num_patch, num_heads, dim * dim_coefficient // num_heads)\n",
        "    )\n",
        "    x = tf.transpose(x, perm=[0, 2, 1, 3])\n",
        "    # a linear layer M_k\n",
        "    attn = layers.Dense(dim // dim_coefficient)(x)\n",
        "    # normalize attention map\n",
        "    attn = layers.Softmax(axis=2)(attn)\n",
        "    # dobule-normalization\n",
        "    attn = attn / (1e-9 + tf.reduce_sum(attn, axis=-1, keepdims=True))\n",
        "    attn = layers.Dropout(attention_dropout)(attn)\n",
        "    # a linear layer M_v\n",
        "    x = layers.Dense(dim * dim_coefficient // num_heads)(attn)\n",
        "    x = tf.transpose(x, perm=[0, 2, 1, 3])\n",
        "    x = tf.reshape(x, [-1, num_patch, dim * dim_coefficient])\n",
        "    # a linear layer to project original dim\n",
        "    x = layers.Dense(dim)(x)\n",
        "    x = layers.Dropout(projection_dropout)(x)\n",
        "    return x\n"
      ]
    },
    {
      "cell_type": "markdown",
      "metadata": {
        "id": "866a8253"
      },
      "source": [
        "# Implement the MLP block\n"
      ]
    },
    {
      "cell_type": "code",
      "execution_count": null,
      "metadata": {
        "id": "1bb8b591"
      },
      "outputs": [],
      "source": [
        "def mlp(x, embedding_dim, mlp_dim, drop_rate=0.2):\n",
        "    x = layers.Dense(mlp_dim, activation=tf.nn.gelu)(x)\n",
        "    x = layers.Dropout(drop_rate)(x)\n",
        "    x = layers.Dense(embedding_dim)(x)\n",
        "    x = layers.Dropout(drop_rate)(x)\n",
        "    return x"
      ]
    },
    {
      "cell_type": "markdown",
      "metadata": {
        "id": "ad6dea21"
      },
      "source": [
        "# Implement the Transformer block\n"
      ]
    },
    {
      "cell_type": "code",
      "execution_count": null,
      "metadata": {
        "id": "928e66a6"
      },
      "outputs": [],
      "source": [
        "def transformer_encoder(\n",
        "    x,\n",
        "    embedding_dim,\n",
        "    mlp_dim,\n",
        "    num_heads,\n",
        "    dim_coefficient,\n",
        "    attention_dropout,\n",
        "    projection_dropout,\n",
        "    attention_type=\"external_attention\",\n",
        "):\n",
        "    residual_1 = x\n",
        "    x = layers.LayerNormalization(epsilon=1e-5)(x)\n",
        "    if attention_type == \"external_attention\":\n",
        "        x = external_attention(\n",
        "            x,\n",
        "            embedding_dim,\n",
        "            num_heads,\n",
        "            dim_coefficient,\n",
        "            attention_dropout,\n",
        "            projection_dropout,\n",
        "        )\n",
        "    elif attention_type == \"self_attention\":\n",
        "        x = layers.MultiHeadAttention(\n",
        "            num_heads=num_heads, key_dim=embedding_dim, dropout=attention_dropout\n",
        "        )(x, x)\n",
        "    x = layers.add([x, residual_1])\n",
        "    residual_2 = x\n",
        "    x = layers.LayerNormalization(epsilon=1e-5)(x)\n",
        "    x = mlp(x, embedding_dim, mlp_dim)\n",
        "    x = layers.add([x, residual_2])\n",
        "    return x"
      ]
    },
    {
      "cell_type": "markdown",
      "metadata": {
        "id": "7d916a2c"
      },
      "source": [
        "# Implement the Self-Attention and External Attention (ENet) model\n"
      ]
    },
    {
      "cell_type": "code",
      "execution_count": null,
      "metadata": {
        "id": "ccaea1d9"
      },
      "outputs": [],
      "source": [
        "def get_model(attention_type=\"external_attention\"):\n",
        "    inputs = layers.Input(shape=input_shape)\n",
        "    # Image augment\n",
        "    x = data_augmentation(inputs)\n",
        "    #x = inputs\n",
        "    # Extract patches.\n",
        "    x = PatchExtract(patch_size)(x)\n",
        "    # Create patch embedding.\n",
        "    x = PatchEmbedding(num_patches, embedding_dim)(x)\n",
        "    # Create Transformer block.\n",
        "    for _ in range(num_transformer_blocks):\n",
        "        x = transformer_encoder(\n",
        "            x,\n",
        "            embedding_dim,\n",
        "            mlp_dim,\n",
        "            num_heads,\n",
        "            dim_coefficient,\n",
        "            attention_dropout,\n",
        "            projection_dropout,\n",
        "            attention_type,\n",
        "        )\n",
        "    x = layers.GlobalAvgPool1D()(x)\n",
        "    outputs = layers.Dense(num_classes, activation=\"softmax\")(x)\n",
        "    model = keras.Model(inputs=inputs, outputs=outputs)\n",
        "    return model"
      ]
    },
    {
      "cell_type": "markdown",
      "source": [
        "## 🔷 Self-Attention"
      ],
      "metadata": {
        "id": "mLp32eqMqYM6"
      }
    },
    {
      "cell_type": "code",
      "execution_count": null,
      "metadata": {
        "colab": {
          "base_uri": "https://localhost:8080/"
        },
        "id": "403e4b80",
        "outputId": "660e1485-cd86-46bf-c3e4-1bc488870928"
      },
      "outputs": [
        {
          "output_type": "stream",
          "name": "stdout",
          "text": [
            "Model: \"model\"\n",
            "__________________________________________________________________________________________________\n",
            " Layer (type)                Output Shape                 Param #   Connected to                  \n",
            "==================================================================================================\n",
            " input_1 (InputLayer)        [(None, 64, 64, 3)]          0         []                            \n",
            "                                                                                                  \n",
            " data_augmentation (Sequent  (None, 64, 64, 3)            7         ['input_1[0][0]']             \n",
            " ial)                                                                                             \n",
            "                                                                                                  \n",
            " patch_extract (PatchExtrac  (None, 1024, 12)             0         ['data_augmentation[0][0]']   \n",
            " t)                                                                                               \n",
            "                                                                                                  \n",
            " patch_embedding (PatchEmbe  (None, 1024, 64)             66368     ['patch_extract[0][0]']       \n",
            " dding)                                                                                           \n",
            "                                                                                                  \n",
            " layer_normalization (Layer  (None, 1024, 64)             128       ['patch_embedding[0][0]']     \n",
            " Normalization)                                                                                   \n",
            "                                                                                                  \n",
            " multi_head_attention (Mult  (None, 1024, 64)             66368     ['layer_normalization[0][0]', \n",
            " iHeadAttention)                                                     'layer_normalization[0][0]'] \n",
            "                                                                                                  \n",
            " add (Add)                   (None, 1024, 64)             0         ['multi_head_attention[0][0]',\n",
            "                                                                     'patch_embedding[0][0]']     \n",
            "                                                                                                  \n",
            " layer_normalization_1 (Lay  (None, 1024, 64)             128       ['add[0][0]']                 \n",
            " erNormalization)                                                                                 \n",
            "                                                                                                  \n",
            " dense_1 (Dense)             (None, 1024, 64)             4160      ['layer_normalization_1[0][0]'\n",
            "                                                                    ]                             \n",
            "                                                                                                  \n",
            " dropout (Dropout)           (None, 1024, 64)             0         ['dense_1[0][0]']             \n",
            "                                                                                                  \n",
            " dense_2 (Dense)             (None, 1024, 64)             4160      ['dropout[0][0]']             \n",
            "                                                                                                  \n",
            " dropout_1 (Dropout)         (None, 1024, 64)             0         ['dense_2[0][0]']             \n",
            "                                                                                                  \n",
            " add_1 (Add)                 (None, 1024, 64)             0         ['dropout_1[0][0]',           \n",
            "                                                                     'add[0][0]']                 \n",
            "                                                                                                  \n",
            " layer_normalization_2 (Lay  (None, 1024, 64)             128       ['add_1[0][0]']               \n",
            " erNormalization)                                                                                 \n",
            "                                                                                                  \n",
            " multi_head_attention_1 (Mu  (None, 1024, 64)             66368     ['layer_normalization_2[0][0]'\n",
            " ltiHeadAttention)                                                  , 'layer_normalization_2[0][0]\n",
            "                                                                    ']                            \n",
            "                                                                                                  \n",
            " add_2 (Add)                 (None, 1024, 64)             0         ['multi_head_attention_1[0][0]\n",
            "                                                                    ',                            \n",
            "                                                                     'add_1[0][0]']               \n",
            "                                                                                                  \n",
            " layer_normalization_3 (Lay  (None, 1024, 64)             128       ['add_2[0][0]']               \n",
            " erNormalization)                                                                                 \n",
            "                                                                                                  \n",
            " dense_3 (Dense)             (None, 1024, 64)             4160      ['layer_normalization_3[0][0]'\n",
            "                                                                    ]                             \n",
            "                                                                                                  \n",
            " dropout_2 (Dropout)         (None, 1024, 64)             0         ['dense_3[0][0]']             \n",
            "                                                                                                  \n",
            " dense_4 (Dense)             (None, 1024, 64)             4160      ['dropout_2[0][0]']           \n",
            "                                                                                                  \n",
            " dropout_3 (Dropout)         (None, 1024, 64)             0         ['dense_4[0][0]']             \n",
            "                                                                                                  \n",
            " add_3 (Add)                 (None, 1024, 64)             0         ['dropout_3[0][0]',           \n",
            "                                                                     'add_2[0][0]']               \n",
            "                                                                                                  \n",
            " layer_normalization_4 (Lay  (None, 1024, 64)             128       ['add_3[0][0]']               \n",
            " erNormalization)                                                                                 \n",
            "                                                                                                  \n",
            " multi_head_attention_2 (Mu  (None, 1024, 64)             66368     ['layer_normalization_4[0][0]'\n",
            " ltiHeadAttention)                                                  , 'layer_normalization_4[0][0]\n",
            "                                                                    ']                            \n",
            "                                                                                                  \n",
            " add_4 (Add)                 (None, 1024, 64)             0         ['multi_head_attention_2[0][0]\n",
            "                                                                    ',                            \n",
            "                                                                     'add_3[0][0]']               \n",
            "                                                                                                  \n",
            " layer_normalization_5 (Lay  (None, 1024, 64)             128       ['add_4[0][0]']               \n",
            " erNormalization)                                                                                 \n",
            "                                                                                                  \n",
            " dense_5 (Dense)             (None, 1024, 64)             4160      ['layer_normalization_5[0][0]'\n",
            "                                                                    ]                             \n",
            "                                                                                                  \n",
            " dropout_4 (Dropout)         (None, 1024, 64)             0         ['dense_5[0][0]']             \n",
            "                                                                                                  \n",
            " dense_6 (Dense)             (None, 1024, 64)             4160      ['dropout_4[0][0]']           \n",
            "                                                                                                  \n",
            " dropout_5 (Dropout)         (None, 1024, 64)             0         ['dense_6[0][0]']             \n",
            "                                                                                                  \n",
            " add_5 (Add)                 (None, 1024, 64)             0         ['dropout_5[0][0]',           \n",
            "                                                                     'add_4[0][0]']               \n",
            "                                                                                                  \n",
            " layer_normalization_6 (Lay  (None, 1024, 64)             128       ['add_5[0][0]']               \n",
            " erNormalization)                                                                                 \n",
            "                                                                                                  \n",
            " multi_head_attention_3 (Mu  (None, 1024, 64)             66368     ['layer_normalization_6[0][0]'\n",
            " ltiHeadAttention)                                                  , 'layer_normalization_6[0][0]\n",
            "                                                                    ']                            \n",
            "                                                                                                  \n",
            " add_6 (Add)                 (None, 1024, 64)             0         ['multi_head_attention_3[0][0]\n",
            "                                                                    ',                            \n",
            "                                                                     'add_5[0][0]']               \n",
            "                                                                                                  \n",
            " layer_normalization_7 (Lay  (None, 1024, 64)             128       ['add_6[0][0]']               \n",
            " erNormalization)                                                                                 \n",
            "                                                                                                  \n",
            " dense_7 (Dense)             (None, 1024, 64)             4160      ['layer_normalization_7[0][0]'\n",
            "                                                                    ]                             \n",
            "                                                                                                  \n",
            " dropout_6 (Dropout)         (None, 1024, 64)             0         ['dense_7[0][0]']             \n",
            "                                                                                                  \n",
            " dense_8 (Dense)             (None, 1024, 64)             4160      ['dropout_6[0][0]']           \n",
            "                                                                                                  \n",
            " dropout_7 (Dropout)         (None, 1024, 64)             0         ['dense_8[0][0]']             \n",
            "                                                                                                  \n",
            " add_7 (Add)                 (None, 1024, 64)             0         ['dropout_7[0][0]',           \n",
            "                                                                     'add_6[0][0]']               \n",
            "                                                                                                  \n",
            " layer_normalization_8 (Lay  (None, 1024, 64)             128       ['add_7[0][0]']               \n",
            " erNormalization)                                                                                 \n",
            "                                                                                                  \n",
            " multi_head_attention_4 (Mu  (None, 1024, 64)             66368     ['layer_normalization_8[0][0]'\n",
            " ltiHeadAttention)                                                  , 'layer_normalization_8[0][0]\n",
            "                                                                    ']                            \n",
            "                                                                                                  \n",
            " add_8 (Add)                 (None, 1024, 64)             0         ['multi_head_attention_4[0][0]\n",
            "                                                                    ',                            \n",
            "                                                                     'add_7[0][0]']               \n",
            "                                                                                                  \n",
            " layer_normalization_9 (Lay  (None, 1024, 64)             128       ['add_8[0][0]']               \n",
            " erNormalization)                                                                                 \n",
            "                                                                                                  \n",
            " dense_9 (Dense)             (None, 1024, 64)             4160      ['layer_normalization_9[0][0]'\n",
            "                                                                    ]                             \n",
            "                                                                                                  \n",
            " dropout_8 (Dropout)         (None, 1024, 64)             0         ['dense_9[0][0]']             \n",
            "                                                                                                  \n",
            " dense_10 (Dense)            (None, 1024, 64)             4160      ['dropout_8[0][0]']           \n",
            "                                                                                                  \n",
            " dropout_9 (Dropout)         (None, 1024, 64)             0         ['dense_10[0][0]']            \n",
            "                                                                                                  \n",
            " add_9 (Add)                 (None, 1024, 64)             0         ['dropout_9[0][0]',           \n",
            "                                                                     'add_8[0][0]']               \n",
            "                                                                                                  \n",
            " layer_normalization_10 (La  (None, 1024, 64)             128       ['add_9[0][0]']               \n",
            " yerNormalization)                                                                                \n",
            "                                                                                                  \n",
            " multi_head_attention_5 (Mu  (None, 1024, 64)             66368     ['layer_normalization_10[0][0]\n",
            " ltiHeadAttention)                                                  ',                            \n",
            "                                                                     'layer_normalization_10[0][0]\n",
            "                                                                    ']                            \n",
            "                                                                                                  \n",
            " add_10 (Add)                (None, 1024, 64)             0         ['multi_head_attention_5[0][0]\n",
            "                                                                    ',                            \n",
            "                                                                     'add_9[0][0]']               \n",
            "                                                                                                  \n",
            " layer_normalization_11 (La  (None, 1024, 64)             128       ['add_10[0][0]']              \n",
            " yerNormalization)                                                                                \n",
            "                                                                                                  \n",
            " dense_11 (Dense)            (None, 1024, 64)             4160      ['layer_normalization_11[0][0]\n",
            "                                                                    ']                            \n",
            "                                                                                                  \n",
            " dropout_10 (Dropout)        (None, 1024, 64)             0         ['dense_11[0][0]']            \n",
            "                                                                                                  \n",
            " dense_12 (Dense)            (None, 1024, 64)             4160      ['dropout_10[0][0]']          \n",
            "                                                                                                  \n",
            " dropout_11 (Dropout)        (None, 1024, 64)             0         ['dense_12[0][0]']            \n",
            "                                                                                                  \n",
            " add_11 (Add)                (None, 1024, 64)             0         ['dropout_11[0][0]',          \n",
            "                                                                     'add_10[0][0]']              \n",
            "                                                                                                  \n",
            " layer_normalization_12 (La  (None, 1024, 64)             128       ['add_11[0][0]']              \n",
            " yerNormalization)                                                                                \n",
            "                                                                                                  \n",
            " multi_head_attention_6 (Mu  (None, 1024, 64)             66368     ['layer_normalization_12[0][0]\n",
            " ltiHeadAttention)                                                  ',                            \n",
            "                                                                     'layer_normalization_12[0][0]\n",
            "                                                                    ']                            \n",
            "                                                                                                  \n",
            " add_12 (Add)                (None, 1024, 64)             0         ['multi_head_attention_6[0][0]\n",
            "                                                                    ',                            \n",
            "                                                                     'add_11[0][0]']              \n",
            "                                                                                                  \n",
            " layer_normalization_13 (La  (None, 1024, 64)             128       ['add_12[0][0]']              \n",
            " yerNormalization)                                                                                \n",
            "                                                                                                  \n",
            " dense_13 (Dense)            (None, 1024, 64)             4160      ['layer_normalization_13[0][0]\n",
            "                                                                    ']                            \n",
            "                                                                                                  \n",
            " dropout_12 (Dropout)        (None, 1024, 64)             0         ['dense_13[0][0]']            \n",
            "                                                                                                  \n",
            " dense_14 (Dense)            (None, 1024, 64)             4160      ['dropout_12[0][0]']          \n",
            "                                                                                                  \n",
            " dropout_13 (Dropout)        (None, 1024, 64)             0         ['dense_14[0][0]']            \n",
            "                                                                                                  \n",
            " add_13 (Add)                (None, 1024, 64)             0         ['dropout_13[0][0]',          \n",
            "                                                                     'add_12[0][0]']              \n",
            "                                                                                                  \n",
            " layer_normalization_14 (La  (None, 1024, 64)             128       ['add_13[0][0]']              \n",
            " yerNormalization)                                                                                \n",
            "                                                                                                  \n",
            " multi_head_attention_7 (Mu  (None, 1024, 64)             66368     ['layer_normalization_14[0][0]\n",
            " ltiHeadAttention)                                                  ',                            \n",
            "                                                                     'layer_normalization_14[0][0]\n",
            "                                                                    ']                            \n",
            "                                                                                                  \n",
            " add_14 (Add)                (None, 1024, 64)             0         ['multi_head_attention_7[0][0]\n",
            "                                                                    ',                            \n",
            "                                                                     'add_13[0][0]']              \n",
            "                                                                                                  \n",
            " layer_normalization_15 (La  (None, 1024, 64)             128       ['add_14[0][0]']              \n",
            " yerNormalization)                                                                                \n",
            "                                                                                                  \n",
            " dense_15 (Dense)            (None, 1024, 64)             4160      ['layer_normalization_15[0][0]\n",
            "                                                                    ']                            \n",
            "                                                                                                  \n",
            " dropout_14 (Dropout)        (None, 1024, 64)             0         ['dense_15[0][0]']            \n",
            "                                                                                                  \n",
            " dense_16 (Dense)            (None, 1024, 64)             4160      ['dropout_14[0][0]']          \n",
            "                                                                                                  \n",
            " dropout_15 (Dropout)        (None, 1024, 64)             0         ['dense_16[0][0]']            \n",
            "                                                                                                  \n",
            " add_15 (Add)                (None, 1024, 64)             0         ['dropout_15[0][0]',          \n",
            "                                                                     'add_14[0][0]']              \n",
            "                                                                                                  \n",
            " global_average_pooling1d (  (None, 64)                   0         ['add_15[0][0]']              \n",
            " GlobalAveragePooling1D)                                                                          \n",
            "                                                                                                  \n",
            " dense_17 (Dense)            (None, 4)                    260       ['global_average_pooling1d[0][\n",
            "                                                                    0]']                          \n",
            "                                                                                                  \n",
            "==================================================================================================\n",
            "Total params: 666187 (2.54 MB)\n",
            "Trainable params: 666180 (2.54 MB)\n",
            "Non-trainable params: 7 (32.00 Byte)\n",
            "__________________________________________________________________________________________________\n"
          ]
        }
      ],
      "source": [
        "model_SA = get_model(attention_type=\"self_attention\")\n",
        "model_SA.summary()"
      ]
    },
    {
      "cell_type": "code",
      "source": [
        "history_SA = run_experiment(model_SA)"
      ],
      "metadata": {
        "colab": {
          "base_uri": "https://localhost:8080/"
        },
        "id": "blyl4m80zOnH",
        "outputId": "4a7895c4-3e53-4882-cc5f-11b185682d69"
      },
      "execution_count": null,
      "outputs": [
        {
          "output_type": "stream",
          "name": "stdout",
          "text": [
            "Epoch 1/100\n"
          ]
        },
        {
          "output_type": "stream",
          "name": "stderr",
          "text": [
            "/usr/local/lib/python3.10/dist-packages/keras/src/backend.py:5575: UserWarning: \"`categorical_crossentropy` received `from_logits=True`, but the `output` argument was produced by a Softmax activation and thus does not represent logits. Was this intended?\n",
            "  output, from_logits = _get_logits(\n"
          ]
        },
        {
          "output_type": "stream",
          "name": "stdout",
          "text": [
            "28/28 [==============================] - 40s 651ms/step - loss: 15.1384 - accuracy: 0.3156 - top5-acc: 1.0000 - Brier score: 0.3040 - F1 score: 0.3103 - Recall: 0.3145 - Precision: 0.3163 - AUC: 0.5665 - val_loss: 3.8049 - val_accuracy: 0.3673 - val_top5-acc: 1.0000 - val_Brier score: 0.2870 - val_F1 score: 0.3078 - val_Recall: 0.3673 - val_Precision: 0.3789 - val_AUC: 0.6214 - lr: 0.0010\n",
            "Epoch 2/100\n",
            "28/28 [==============================] - 5s 167ms/step - loss: 2.9448 - accuracy: 0.3993 - top5-acc: 1.0000 - Brier score: 0.2235 - F1 score: 0.3983 - Recall: 0.3688 - Precision: 0.4090 - AUC: 0.6689 - val_loss: 2.1743 - val_accuracy: 0.4286 - val_top5-acc: 1.0000 - val_Brier score: 0.2282 - val_F1 score: 0.3225 - val_Recall: 0.4286 - val_Precision: 0.4375 - val_AUC: 0.7188 - lr: 0.0010\n",
            "Epoch 3/100\n",
            "28/28 [==============================] - 5s 170ms/step - loss: 2.2051 - accuracy: 0.3767 - top5-acc: 1.0000 - Brier score: 0.2244 - F1 score: 0.3846 - Recall: 0.3224 - Precision: 0.3711 - AUC: 0.6576 - val_loss: 1.7006 - val_accuracy: 0.4082 - val_top5-acc: 1.0000 - val_Brier score: 0.2224 - val_F1 score: 0.3122 - val_Recall: 0.3673 - val_Precision: 0.3871 - val_AUC: 0.7527 - lr: 0.0010\n",
            "Epoch 4/100\n",
            "28/28 [==============================] - 5s 170ms/step - loss: 1.7584 - accuracy: 0.3857 - top5-acc: 1.0000 - Brier score: 0.2009 - F1 score: 0.3931 - Recall: 0.3111 - Precision: 0.4098 - AUC: 0.6893 - val_loss: 1.4570 - val_accuracy: 0.4082 - val_top5-acc: 1.0000 - val_Brier score: 0.1939 - val_F1 score: 0.2941 - val_Recall: 0.3980 - val_Precision: 0.4333 - val_AUC: 0.7485 - lr: 0.0010\n",
            "Epoch 5/100\n",
            "28/28 [==============================] - 5s 168ms/step - loss: 1.6454 - accuracy: 0.3722 - top5-acc: 1.0000 - Brier score: 0.2044 - F1 score: 0.3740 - Recall: 0.2805 - Precision: 0.4120 - AUC: 0.6575 - val_loss: 1.7175 - val_accuracy: 0.5000 - val_top5-acc: 1.0000 - val_Brier score: 0.1820 - val_F1 score: 0.3138 - val_Recall: 0.5000 - val_Precision: 0.5052 - val_AUC: 0.7385 - lr: 0.0010\n",
            "Epoch 6/100\n",
            "28/28 [==============================] - 5s 169ms/step - loss: 1.8441 - accuracy: 0.3756 - top5-acc: 1.0000 - Brier score: 0.2166 - F1 score: 0.3854 - Recall: 0.3201 - Precision: 0.3877 - AUC: 0.6689 - val_loss: 1.3102 - val_accuracy: 0.4388 - val_top5-acc: 1.0000 - val_Brier score: 0.1831 - val_F1 score: 0.3035 - val_Recall: 0.3061 - val_Precision: 0.3797 - val_AUC: 0.7120 - lr: 0.0010\n",
            "Epoch 7/100\n",
            "28/28 [==============================] - 5s 167ms/step - loss: 1.7986 - accuracy: 0.3156 - top5-acc: 1.0000 - Brier score: 0.2139 - F1 score: 0.3260 - Recall: 0.2455 - Precision: 0.3380 - AUC: 0.6442 - val_loss: 1.3248 - val_accuracy: 0.4694 - val_top5-acc: 1.0000 - val_Brier score: 0.1623 - val_F1 score: 0.3335 - val_Recall: 0.3367 - val_Precision: 0.6346 - val_AUC: 0.7540 - lr: 0.0010\n",
            "Epoch 8/100\n",
            "28/28 [==============================] - 5s 167ms/step - loss: 1.8892 - accuracy: 0.3643 - top5-acc: 1.0000 - Brier score: 0.2082 - F1 score: 0.3611 - Recall: 0.2715 - Precision: 0.3828 - AUC: 0.6503 - val_loss: 2.0396 - val_accuracy: 0.2245 - val_top5-acc: 1.0000 - val_Brier score: 0.2326 - val_F1 score: 0.1789 - val_Recall: 0.1735 - val_Precision: 0.2500 - val_AUC: 0.5283 - lr: 0.0010\n",
            "Epoch 9/100\n",
            "28/28 [==============================] - 5s 167ms/step - loss: 1.5574 - accuracy: 0.4038 - top5-acc: 1.0000 - Brier score: 0.1899 - F1 score: 0.4110 - Recall: 0.3009 - Precision: 0.4426 - AUC: 0.6897 - val_loss: 0.9736 - val_accuracy: 0.6122 - val_top5-acc: 1.0000 - val_Brier score: 0.1325 - val_F1 score: 0.4935 - val_Recall: 0.4286 - val_Precision: 0.6462 - val_AUC: 0.8365 - lr: 0.0010\n",
            "Epoch 10/100\n",
            "28/28 [==============================] - 5s 166ms/step - loss: 1.4372 - accuracy: 0.4106 - top5-acc: 1.0000 - Brier score: 0.1892 - F1 score: 0.4208 - Recall: 0.3032 - Precision: 0.4358 - AUC: 0.6986 - val_loss: 1.0257 - val_accuracy: 0.5102 - val_top5-acc: 1.0000 - val_Brier score: 0.1435 - val_F1 score: 0.4369 - val_Recall: 0.3367 - val_Precision: 0.6226 - val_AUC: 0.8043 - lr: 0.0010\n",
            "Epoch 11/100\n",
            "28/28 [==============================] - 5s 167ms/step - loss: 1.4035 - accuracy: 0.3959 - top5-acc: 1.0000 - Brier score: 0.1837 - F1 score: 0.4034 - Recall: 0.2896 - Precision: 0.4414 - AUC: 0.7008 - val_loss: 1.3608 - val_accuracy: 0.3878 - val_top5-acc: 1.0000 - val_Brier score: 0.1975 - val_F1 score: 0.1984 - val_Recall: 0.3776 - val_Precision: 0.4157 - val_AUC: 0.7490 - lr: 0.0010\n",
            "Epoch 12/100\n",
            "28/28 [==============================] - 5s 166ms/step - loss: 1.5240 - accuracy: 0.3914 - top5-acc: 1.0000 - Brier score: 0.1975 - F1 score: 0.4032 - Recall: 0.2805 - Precision: 0.4306 - AUC: 0.6656 - val_loss: 1.0358 - val_accuracy: 0.5102 - val_top5-acc: 1.0000 - val_Brier score: 0.1394 - val_F1 score: 0.4796 - val_Recall: 0.2347 - val_Precision: 0.8519 - val_AUC: 0.8124 - lr: 0.0010\n",
            "Epoch 13/100\n",
            "28/28 [==============================] - 5s 166ms/step - loss: 1.2430 - accuracy: 0.4355 - top5-acc: 1.0000 - Brier score: 0.1709 - F1 score: 0.4450 - Recall: 0.2771 - Precision: 0.5213 - AUC: 0.7222 - val_loss: 1.2345 - val_accuracy: 0.5816 - val_top5-acc: 1.0000 - val_Brier score: 0.1490 - val_F1 score: 0.4324 - val_Recall: 0.5612 - val_Precision: 0.6180 - val_AUC: 0.7875 - lr: 0.0010\n",
            "Epoch 14/100\n",
            "28/28 [==============================] - 5s 166ms/step - loss: 1.4368 - accuracy: 0.3993 - top5-acc: 1.0000 - Brier score: 0.1881 - F1 score: 0.4023 - Recall: 0.3009 - Precision: 0.4486 - AUC: 0.6833 - val_loss: 1.8301 - val_accuracy: 0.3878 - val_top5-acc: 1.0000 - val_Brier score: 0.2307 - val_F1 score: 0.1863 - val_Recall: 0.3878 - val_Precision: 0.3958 - val_AUC: 0.6762 - lr: 0.0010\n",
            "Epoch 15/100\n",
            "28/28 [==============================] - 5s 167ms/step - loss: 1.4266 - accuracy: 0.3891 - top5-acc: 1.0000 - Brier score: 0.1870 - F1 score: 0.3973 - Recall: 0.2692 - Precision: 0.4457 - AUC: 0.6790 - val_loss: 1.0762 - val_accuracy: 0.4796 - val_top5-acc: 1.0000 - val_Brier score: 0.1455 - val_F1 score: 0.3736 - val_Recall: 0.3776 - val_Precision: 0.6491 - val_AUC: 0.7997 - lr: 5.0000e-04\n",
            "Epoch 16/100\n",
            "28/28 [==============================] - 5s 165ms/step - loss: 1.2994 - accuracy: 0.4219 - top5-acc: 1.0000 - Brier score: 0.1736 - F1 score: 0.4333 - Recall: 0.2839 - Precision: 0.5071 - AUC: 0.7143 - val_loss: 1.3777 - val_accuracy: 0.4490 - val_top5-acc: 1.0000 - val_Brier score: 0.1772 - val_F1 score: 0.3324 - val_Recall: 0.4286 - val_Precision: 0.4719 - val_AUC: 0.7283 - lr: 5.0000e-04\n",
            "Epoch 17/100\n",
            "28/28 [==============================] - 5s 167ms/step - loss: 1.3320 - accuracy: 0.4231 - top5-acc: 1.0000 - Brier score: 0.1801 - F1 score: 0.4348 - Recall: 0.2975 - Precision: 0.4488 - AUC: 0.7131 - val_loss: 1.1009 - val_accuracy: 0.3878 - val_top5-acc: 1.0000 - val_Brier score: 0.1592 - val_F1 score: 0.3043 - val_Recall: 0.3367 - val_Precision: 0.5077 - val_AUC: 0.7701 - lr: 5.0000e-04\n",
            "Epoch 18/100\n",
            "28/28 [==============================] - 5s 166ms/step - loss: 1.1123 - accuracy: 0.4548 - top5-acc: 1.0000 - Brier score: 0.1588 - F1 score: 0.4656 - Recall: 0.2285 - Precision: 0.5642 - AUC: 0.7544 - val_loss: 1.1932 - val_accuracy: 0.4490 - val_top5-acc: 1.0000 - val_Brier score: 0.1540 - val_F1 score: 0.3924 - val_Recall: 0.2959 - val_Precision: 0.7250 - val_AUC: 0.7497 - lr: 5.0000e-04\n",
            "Epoch 19/100\n",
            "28/28 [==============================] - 5s 169ms/step - loss: 1.2112 - accuracy: 0.4355 - top5-acc: 1.0000 - Brier score: 0.1698 - F1 score: 0.4397 - Recall: 0.2805 - Precision: 0.5072 - AUC: 0.7303 - val_loss: 1.0821 - val_accuracy: 0.4898 - val_top5-acc: 1.0000 - val_Brier score: 0.1430 - val_F1 score: 0.4061 - val_Recall: 0.3980 - val_Precision: 0.7800 - val_AUC: 0.7860 - lr: 5.0000e-04\n"
          ]
        }
      ]
    },
    {
      "cell_type": "code",
      "source": [
        "plot_training_curves(history_SA, 'Chest Cancer, SA Transfomer')"
      ],
      "metadata": {
        "colab": {
          "base_uri": "https://localhost:8080/",
          "height": 287
        },
        "id": "6u6xBfzPyZDH",
        "outputId": "e21c89e3-ed1e-4d20-b584-91b2805b53ac"
      },
      "execution_count": null,
      "outputs": [
        {
          "output_type": "display_data",
          "data": {
            "text/plain": [
              "<Figure size 1000x250 with 2 Axes>"
            ],
            "image/png": "[encoded data removed]"
          },
          "metadata": {}
        }
      ]
    },
    {
      "cell_type": "markdown",
      "source": [
        "\n",
        "\n",
        "---\n",
        "\n",
        "\n",
        "## 🔷 External-Attention"
      ],
      "metadata": {
        "id": "dy-F9r_ZzuxM"
      }
    },
    {
      "cell_type": "code",
      "execution_count": null,
      "metadata": {
        "colab": {
          "base_uri": "https://localhost:8080/"
        },
        "outputId": "faafe9ce-4ca4-42cf-a540-730edc0209e9",
        "id": "h2uz46mrzuxM"
      },
      "outputs": [
        {
          "output_type": "stream",
          "name": "stdout",
          "text": [
            "Model: \"model_1\"\n",
            "__________________________________________________________________________________________________\n",
            " Layer (type)                Output Shape                 Param #   Connected to                  \n",
            "==================================================================================================\n",
            " input_2 (InputLayer)        [(None, 64, 64, 3)]          0         []                            \n",
            "                                                                                                  \n",
            " data_augmentation (Sequent  (None, 64, 64, 3)            7         ['input_2[0][0]']             \n",
            " ial)                                                                                             \n",
            "                                                                                                  \n",
            " patch_extract_1 (PatchExtr  (None, 1024, 12)             0         ['data_augmentation[1][0]']   \n",
            " act)                                                                                             \n",
            "                                                                                                  \n",
            " patch_embedding_1 (PatchEm  (None, 1024, 64)             66368     ['patch_extract_1[0][0]']     \n",
            " bedding)                                                                                         \n",
            "                                                                                                  \n",
            " layer_normalization_16 (La  (None, 1024, 64)             128       ['patch_embedding_1[0][0]']   \n",
            " yerNormalization)                                                                                \n",
            "                                                                                                  \n",
            " dense_19 (Dense)            (None, 1024, 256)            16640     ['layer_normalization_16[0][0]\n",
            "                                                                    ']                            \n",
            "                                                                                                  \n",
            " tf.reshape (TFOpLambda)     (None, 1024, 16, 16)         0         ['dense_19[0][0]']            \n",
            "                                                                                                  \n",
            " tf.compat.v1.transpose (TF  (None, 16, 1024, 16)         0         ['tf.reshape[0][0]']          \n",
            " OpLambda)                                                                                        \n",
            "                                                                                                  \n",
            " dense_20 (Dense)            (None, 16, 1024, 16)         272       ['tf.compat.v1.transpose[0][0]\n",
            "                                                                    ']                            \n",
            "                                                                                                  \n",
            " softmax (Softmax)           (None, 16, 1024, 16)         0         ['dense_20[0][0]']            \n",
            "                                                                                                  \n",
            " tf.math.reduce_sum (TFOpLa  (None, 16, 1024, 1)          0         ['softmax[0][0]']             \n",
            " mbda)                                                                                            \n",
            "                                                                                                  \n",
            " tf.__operators__.add (TFOp  (None, 16, 1024, 1)          0         ['tf.math.reduce_sum[0][0]']  \n",
            " Lambda)                                                                                          \n",
            "                                                                                                  \n",
            " tf.math.truediv (TFOpLambd  (None, 16, 1024, 16)         0         ['softmax[0][0]',             \n",
            " a)                                                                  'tf.__operators__.add[0][0]']\n",
            "                                                                                                  \n",
            " dropout_16 (Dropout)        (None, 16, 1024, 16)         0         ['tf.math.truediv[0][0]']     \n",
            "                                                                                                  \n",
            " dense_21 (Dense)            (None, 16, 1024, 16)         272       ['dropout_16[0][0]']          \n",
            "                                                                                                  \n",
            " tf.compat.v1.transpose_1 (  (None, 1024, 16, 16)         0         ['dense_21[0][0]']            \n",
            " TFOpLambda)                                                                                      \n",
            "                                                                                                  \n",
            " tf.reshape_1 (TFOpLambda)   (None, 1024, 256)            0         ['tf.compat.v1.transpose_1[0][\n",
            "                                                                    0]']                          \n",
            "                                                                                                  \n",
            " dense_22 (Dense)            (None, 1024, 64)             16448     ['tf.reshape_1[0][0]']        \n",
            "                                                                                                  \n",
            " dropout_17 (Dropout)        (None, 1024, 64)             0         ['dense_22[0][0]']            \n",
            "                                                                                                  \n",
            " add_16 (Add)                (None, 1024, 64)             0         ['dropout_17[0][0]',          \n",
            "                                                                     'patch_embedding_1[0][0]']   \n",
            "                                                                                                  \n",
            " layer_normalization_17 (La  (None, 1024, 64)             128       ['add_16[0][0]']              \n",
            " yerNormalization)                                                                                \n",
            "                                                                                                  \n",
            " dense_23 (Dense)            (None, 1024, 64)             4160      ['layer_normalization_17[0][0]\n",
            "                                                                    ']                            \n",
            "                                                                                                  \n",
            " dropout_18 (Dropout)        (None, 1024, 64)             0         ['dense_23[0][0]']            \n",
            "                                                                                                  \n",
            " dense_24 (Dense)            (None, 1024, 64)             4160      ['dropout_18[0][0]']          \n",
            "                                                                                                  \n",
            " dropout_19 (Dropout)        (None, 1024, 64)             0         ['dense_24[0][0]']            \n",
            "                                                                                                  \n",
            " add_17 (Add)                (None, 1024, 64)             0         ['dropout_19[0][0]',          \n",
            "                                                                     'add_16[0][0]']              \n",
            "                                                                                                  \n",
            " layer_normalization_18 (La  (None, 1024, 64)             128       ['add_17[0][0]']              \n",
            " yerNormalization)                                                                                \n",
            "                                                                                                  \n",
            " dense_25 (Dense)            (None, 1024, 256)            16640     ['layer_normalization_18[0][0]\n",
            "                                                                    ']                            \n",
            "                                                                                                  \n",
            " tf.reshape_2 (TFOpLambda)   (None, 1024, 16, 16)         0         ['dense_25[0][0]']            \n",
            "                                                                                                  \n",
            " tf.compat.v1.transpose_2 (  (None, 16, 1024, 16)         0         ['tf.reshape_2[0][0]']        \n",
            " TFOpLambda)                                                                                      \n",
            "                                                                                                  \n",
            " dense_26 (Dense)            (None, 16, 1024, 16)         272       ['tf.compat.v1.transpose_2[0][\n",
            "                                                                    0]']                          \n",
            "                                                                                                  \n",
            " softmax_1 (Softmax)         (None, 16, 1024, 16)         0         ['dense_26[0][0]']            \n",
            "                                                                                                  \n",
            " tf.math.reduce_sum_1 (TFOp  (None, 16, 1024, 1)          0         ['softmax_1[0][0]']           \n",
            " Lambda)                                                                                          \n",
            "                                                                                                  \n",
            " tf.__operators__.add_1 (TF  (None, 16, 1024, 1)          0         ['tf.math.reduce_sum_1[0][0]']\n",
            " OpLambda)                                                                                        \n",
            "                                                                                                  \n",
            " tf.math.truediv_1 (TFOpLam  (None, 16, 1024, 16)         0         ['softmax_1[0][0]',           \n",
            " bda)                                                                'tf.__operators__.add_1[0][0]\n",
            "                                                                    ']                            \n",
            "                                                                                                  \n",
            " dropout_20 (Dropout)        (None, 16, 1024, 16)         0         ['tf.math.truediv_1[0][0]']   \n",
            "                                                                                                  \n",
            " dense_27 (Dense)            (None, 16, 1024, 16)         272       ['dropout_20[0][0]']          \n",
            "                                                                                                  \n",
            " tf.compat.v1.transpose_3 (  (None, 1024, 16, 16)         0         ['dense_27[0][0]']            \n",
            " TFOpLambda)                                                                                      \n",
            "                                                                                                  \n",
            " tf.reshape_3 (TFOpLambda)   (None, 1024, 256)            0         ['tf.compat.v1.transpose_3[0][\n",
            "                                                                    0]']                          \n",
            "                                                                                                  \n",
            " dense_28 (Dense)            (None, 1024, 64)             16448     ['tf.reshape_3[0][0]']        \n",
            "                                                                                                  \n",
            " dropout_21 (Dropout)        (None, 1024, 64)             0         ['dense_28[0][0]']            \n",
            "                                                                                                  \n",
            " add_18 (Add)                (None, 1024, 64)             0         ['dropout_21[0][0]',          \n",
            "                                                                     'add_17[0][0]']              \n",
            "                                                                                                  \n",
            " layer_normalization_19 (La  (None, 1024, 64)             128       ['add_18[0][0]']              \n",
            " yerNormalization)                                                                                \n",
            "                                                                                                  \n",
            " dense_29 (Dense)            (None, 1024, 64)             4160      ['layer_normalization_19[0][0]\n",
            "                                                                    ']                            \n",
            "                                                                                                  \n",
            " dropout_22 (Dropout)        (None, 1024, 64)             0         ['dense_29[0][0]']            \n",
            "                                                                                                  \n",
            " dense_30 (Dense)            (None, 1024, 64)             4160      ['dropout_22[0][0]']          \n",
            "                                                                                                  \n",
            " dropout_23 (Dropout)        (None, 1024, 64)             0         ['dense_30[0][0]']            \n",
            "                                                                                                  \n",
            " add_19 (Add)                (None, 1024, 64)             0         ['dropout_23[0][0]',          \n",
            "                                                                     'add_18[0][0]']              \n",
            "                                                                                                  \n",
            " layer_normalization_20 (La  (None, 1024, 64)             128       ['add_19[0][0]']              \n",
            " yerNormalization)                                                                                \n",
            "                                                                                                  \n",
            " dense_31 (Dense)            (None, 1024, 256)            16640     ['layer_normalization_20[0][0]\n",
            "                                                                    ']                            \n",
            "                                                                                                  \n",
            " tf.reshape_4 (TFOpLambda)   (None, 1024, 16, 16)         0         ['dense_31[0][0]']            \n",
            "                                                                                                  \n",
            " tf.compat.v1.transpose_4 (  (None, 16, 1024, 16)         0         ['tf.reshape_4[0][0]']        \n",
            " TFOpLambda)                                                                                      \n",
            "                                                                                                  \n",
            " dense_32 (Dense)            (None, 16, 1024, 16)         272       ['tf.compat.v1.transpose_4[0][\n",
            "                                                                    0]']                          \n",
            "                                                                                                  \n",
            " softmax_2 (Softmax)         (None, 16, 1024, 16)         0         ['dense_32[0][0]']            \n",
            "                                                                                                  \n",
            " tf.math.reduce_sum_2 (TFOp  (None, 16, 1024, 1)          0         ['softmax_2[0][0]']           \n",
            " Lambda)                                                                                          \n",
            "                                                                                                  \n",
            " tf.__operators__.add_2 (TF  (None, 16, 1024, 1)          0         ['tf.math.reduce_sum_2[0][0]']\n",
            " OpLambda)                                                                                        \n",
            "                                                                                                  \n",
            " tf.math.truediv_2 (TFOpLam  (None, 16, 1024, 16)         0         ['softmax_2[0][0]',           \n",
            " bda)                                                                'tf.__operators__.add_2[0][0]\n",
            "                                                                    ']                            \n",
            "                                                                                                  \n",
            " dropout_24 (Dropout)        (None, 16, 1024, 16)         0         ['tf.math.truediv_2[0][0]']   \n",
            "                                                                                                  \n",
            " dense_33 (Dense)            (None, 16, 1024, 16)         272       ['dropout_24[0][0]']          \n",
            "                                                                                                  \n",
            " tf.compat.v1.transpose_5 (  (None, 1024, 16, 16)         0         ['dense_33[0][0]']            \n",
            " TFOpLambda)                                                                                      \n",
            "                                                                                                  \n",
            " tf.reshape_5 (TFOpLambda)   (None, 1024, 256)            0         ['tf.compat.v1.transpose_5[0][\n",
            "                                                                    0]']                          \n",
            "                                                                                                  \n",
            " dense_34 (Dense)            (None, 1024, 64)             16448     ['tf.reshape_5[0][0]']        \n",
            "                                                                                                  \n",
            " dropout_25 (Dropout)        (None, 1024, 64)             0         ['dense_34[0][0]']            \n",
            "                                                                                                  \n",
            " add_20 (Add)                (None, 1024, 64)             0         ['dropout_25[0][0]',          \n",
            "                                                                     'add_19[0][0]']              \n",
            "                                                                                                  \n",
            " layer_normalization_21 (La  (None, 1024, 64)             128       ['add_20[0][0]']              \n",
            " yerNormalization)                                                                                \n",
            "                                                                                                  \n",
            " dense_35 (Dense)            (None, 1024, 64)             4160      ['layer_normalization_21[0][0]\n",
            "                                                                    ']                            \n",
            "                                                                                                  \n",
            " dropout_26 (Dropout)        (None, 1024, 64)             0         ['dense_35[0][0]']            \n",
            "                                                                                                  \n",
            " dense_36 (Dense)            (None, 1024, 64)             4160      ['dropout_26[0][0]']          \n",
            "                                                                                                  \n",
            " dropout_27 (Dropout)        (None, 1024, 64)             0         ['dense_36[0][0]']            \n",
            "                                                                                                  \n",
            " add_21 (Add)                (None, 1024, 64)             0         ['dropout_27[0][0]',          \n",
            "                                                                     'add_20[0][0]']              \n",
            "                                                                                                  \n",
            " layer_normalization_22 (La  (None, 1024, 64)             128       ['add_21[0][0]']              \n",
            " yerNormalization)                                                                                \n",
            "                                                                                                  \n",
            " dense_37 (Dense)            (None, 1024, 256)            16640     ['layer_normalization_22[0][0]\n",
            "                                                                    ']                            \n",
            "                                                                                                  \n",
            " tf.reshape_6 (TFOpLambda)   (None, 1024, 16, 16)         0         ['dense_37[0][0]']            \n",
            "                                                                                                  \n",
            " tf.compat.v1.transpose_6 (  (None, 16, 1024, 16)         0         ['tf.reshape_6[0][0]']        \n",
            " TFOpLambda)                                                                                      \n",
            "                                                                                                  \n",
            " dense_38 (Dense)            (None, 16, 1024, 16)         272       ['tf.compat.v1.transpose_6[0][\n",
            "                                                                    0]']                          \n",
            "                                                                                                  \n",
            " softmax_3 (Softmax)         (None, 16, 1024, 16)         0         ['dense_38[0][0]']            \n",
            "                                                                                                  \n",
            " tf.math.reduce_sum_3 (TFOp  (None, 16, 1024, 1)          0         ['softmax_3[0][0]']           \n",
            " Lambda)                                                                                          \n",
            "                                                                                                  \n",
            " tf.__operators__.add_3 (TF  (None, 16, 1024, 1)          0         ['tf.math.reduce_sum_3[0][0]']\n",
            " OpLambda)                                                                                        \n",
            "                                                                                                  \n",
            " tf.math.truediv_3 (TFOpLam  (None, 16, 1024, 16)         0         ['softmax_3[0][0]',           \n",
            " bda)                                                                'tf.__operators__.add_3[0][0]\n",
            "                                                                    ']                            \n",
            "                                                                                                  \n",
            " dropout_28 (Dropout)        (None, 16, 1024, 16)         0         ['tf.math.truediv_3[0][0]']   \n",
            "                                                                                                  \n",
            " dense_39 (Dense)            (None, 16, 1024, 16)         272       ['dropout_28[0][0]']          \n",
            "                                                                                                  \n",
            " tf.compat.v1.transpose_7 (  (None, 1024, 16, 16)         0         ['dense_39[0][0]']            \n",
            " TFOpLambda)                                                                                      \n",
            "                                                                                                  \n",
            " tf.reshape_7 (TFOpLambda)   (None, 1024, 256)            0         ['tf.compat.v1.transpose_7[0][\n",
            "                                                                    0]']                          \n",
            "                                                                                                  \n",
            " dense_40 (Dense)            (None, 1024, 64)             16448     ['tf.reshape_7[0][0]']        \n",
            "                                                                                                  \n",
            " dropout_29 (Dropout)        (None, 1024, 64)             0         ['dense_40[0][0]']            \n",
            "                                                                                                  \n",
            " add_22 (Add)                (None, 1024, 64)             0         ['dropout_29[0][0]',          \n",
            "                                                                     'add_21[0][0]']              \n",
            "                                                                                                  \n",
            " layer_normalization_23 (La  (None, 1024, 64)             128       ['add_22[0][0]']              \n",
            " yerNormalization)                                                                                \n",
            "                                                                                                  \n",
            " dense_41 (Dense)            (None, 1024, 64)             4160      ['layer_normalization_23[0][0]\n",
            "                                                                    ']                            \n",
            "                                                                                                  \n",
            " dropout_30 (Dropout)        (None, 1024, 64)             0         ['dense_41[0][0]']            \n",
            "                                                                                                  \n",
            " dense_42 (Dense)            (None, 1024, 64)             4160      ['dropout_30[0][0]']          \n",
            "                                                                                                  \n",
            " dropout_31 (Dropout)        (None, 1024, 64)             0         ['dense_42[0][0]']            \n",
            "                                                                                                  \n",
            " add_23 (Add)                (None, 1024, 64)             0         ['dropout_31[0][0]',          \n",
            "                                                                     'add_22[0][0]']              \n",
            "                                                                                                  \n",
            " layer_normalization_24 (La  (None, 1024, 64)             128       ['add_23[0][0]']              \n",
            " yerNormalization)                                                                                \n",
            "                                                                                                  \n",
            " dense_43 (Dense)            (None, 1024, 256)            16640     ['layer_normalization_24[0][0]\n",
            "                                                                    ']                            \n",
            "                                                                                                  \n",
            " tf.reshape_8 (TFOpLambda)   (None, 1024, 16, 16)         0         ['dense_43[0][0]']            \n",
            "                                                                                                  \n",
            " tf.compat.v1.transpose_8 (  (None, 16, 1024, 16)         0         ['tf.reshape_8[0][0]']        \n",
            " TFOpLambda)                                                                                      \n",
            "                                                                                                  \n",
            " dense_44 (Dense)            (None, 16, 1024, 16)         272       ['tf.compat.v1.transpose_8[0][\n",
            "                                                                    0]']                          \n",
            "                                                                                                  \n",
            " softmax_4 (Softmax)         (None, 16, 1024, 16)         0         ['dense_44[0][0]']            \n",
            "                                                                                                  \n",
            " tf.math.reduce_sum_4 (TFOp  (None, 16, 1024, 1)          0         ['softmax_4[0][0]']           \n",
            " Lambda)                                                                                          \n",
            "                                                                                                  \n",
            " tf.__operators__.add_4 (TF  (None, 16, 1024, 1)          0         ['tf.math.reduce_sum_4[0][0]']\n",
            " OpLambda)                                                                                        \n",
            "                                                                                                  \n",
            " tf.math.truediv_4 (TFOpLam  (None, 16, 1024, 16)         0         ['softmax_4[0][0]',           \n",
            " bda)                                                                'tf.__operators__.add_4[0][0]\n",
            "                                                                    ']                            \n",
            "                                                                                                  \n",
            " dropout_32 (Dropout)        (None, 16, 1024, 16)         0         ['tf.math.truediv_4[0][0]']   \n",
            "                                                                                                  \n",
            " dense_45 (Dense)            (None, 16, 1024, 16)         272       ['dropout_32[0][0]']          \n",
            "                                                                                                  \n",
            " tf.compat.v1.transpose_9 (  (None, 1024, 16, 16)         0         ['dense_45[0][0]']            \n",
            " TFOpLambda)                                                                                      \n",
            "                                                                                                  \n",
            " tf.reshape_9 (TFOpLambda)   (None, 1024, 256)            0         ['tf.compat.v1.transpose_9[0][\n",
            "                                                                    0]']                          \n",
            "                                                                                                  \n",
            " dense_46 (Dense)            (None, 1024, 64)             16448     ['tf.reshape_9[0][0]']        \n",
            "                                                                                                  \n",
            " dropout_33 (Dropout)        (None, 1024, 64)             0         ['dense_46[0][0]']            \n",
            "                                                                                                  \n",
            " add_24 (Add)                (None, 1024, 64)             0         ['dropout_33[0][0]',          \n",
            "                                                                     'add_23[0][0]']              \n",
            "                                                                                                  \n",
            " layer_normalization_25 (La  (None, 1024, 64)             128       ['add_24[0][0]']              \n",
            " yerNormalization)                                                                                \n",
            "                                                                                                  \n",
            " dense_47 (Dense)            (None, 1024, 64)             4160      ['layer_normalization_25[0][0]\n",
            "                                                                    ']                            \n",
            "                                                                                                  \n",
            " dropout_34 (Dropout)        (None, 1024, 64)             0         ['dense_47[0][0]']            \n",
            "                                                                                                  \n",
            " dense_48 (Dense)            (None, 1024, 64)             4160      ['dropout_34[0][0]']          \n",
            "                                                                                                  \n",
            " dropout_35 (Dropout)        (None, 1024, 64)             0         ['dense_48[0][0]']            \n",
            "                                                                                                  \n",
            " add_25 (Add)                (None, 1024, 64)             0         ['dropout_35[0][0]',          \n",
            "                                                                     'add_24[0][0]']              \n",
            "                                                                                                  \n",
            " layer_normalization_26 (La  (None, 1024, 64)             128       ['add_25[0][0]']              \n",
            " yerNormalization)                                                                                \n",
            "                                                                                                  \n",
            " dense_49 (Dense)            (None, 1024, 256)            16640     ['layer_normalization_26[0][0]\n",
            "                                                                    ']                            \n",
            "                                                                                                  \n",
            " tf.reshape_10 (TFOpLambda)  (None, 1024, 16, 16)         0         ['dense_49[0][0]']            \n",
            "                                                                                                  \n",
            " tf.compat.v1.transpose_10   (None, 16, 1024, 16)         0         ['tf.reshape_10[0][0]']       \n",
            " (TFOpLambda)                                                                                     \n",
            "                                                                                                  \n",
            " dense_50 (Dense)            (None, 16, 1024, 16)         272       ['tf.compat.v1.transpose_10[0]\n",
            "                                                                    [0]']                         \n",
            "                                                                                                  \n",
            " softmax_5 (Softmax)         (None, 16, 1024, 16)         0         ['dense_50[0][0]']            \n",
            "                                                                                                  \n",
            " tf.math.reduce_sum_5 (TFOp  (None, 16, 1024, 1)          0         ['softmax_5[0][0]']           \n",
            " Lambda)                                                                                          \n",
            "                                                                                                  \n",
            " tf.__operators__.add_5 (TF  (None, 16, 1024, 1)          0         ['tf.math.reduce_sum_5[0][0]']\n",
            " OpLambda)                                                                                        \n",
            "                                                                                                  \n",
            " tf.math.truediv_5 (TFOpLam  (None, 16, 1024, 16)         0         ['softmax_5[0][0]',           \n",
            " bda)                                                                'tf.__operators__.add_5[0][0]\n",
            "                                                                    ']                            \n",
            "                                                                                                  \n",
            " dropout_36 (Dropout)        (None, 16, 1024, 16)         0         ['tf.math.truediv_5[0][0]']   \n",
            "                                                                                                  \n",
            " dense_51 (Dense)            (None, 16, 1024, 16)         272       ['dropout_36[0][0]']          \n",
            "                                                                                                  \n",
            " tf.compat.v1.transpose_11   (None, 1024, 16, 16)         0         ['dense_51[0][0]']            \n",
            " (TFOpLambda)                                                                                     \n",
            "                                                                                                  \n",
            " tf.reshape_11 (TFOpLambda)  (None, 1024, 256)            0         ['tf.compat.v1.transpose_11[0]\n",
            "                                                                    [0]']                         \n",
            "                                                                                                  \n",
            " dense_52 (Dense)            (None, 1024, 64)             16448     ['tf.reshape_11[0][0]']       \n",
            "                                                                                                  \n",
            " dropout_37 (Dropout)        (None, 1024, 64)             0         ['dense_52[0][0]']            \n",
            "                                                                                                  \n",
            " add_26 (Add)                (None, 1024, 64)             0         ['dropout_37[0][0]',          \n",
            "                                                                     'add_25[0][0]']              \n",
            "                                                                                                  \n",
            " layer_normalization_27 (La  (None, 1024, 64)             128       ['add_26[0][0]']              \n",
            " yerNormalization)                                                                                \n",
            "                                                                                                  \n",
            " dense_53 (Dense)            (None, 1024, 64)             4160      ['layer_normalization_27[0][0]\n",
            "                                                                    ']                            \n",
            "                                                                                                  \n",
            " dropout_38 (Dropout)        (None, 1024, 64)             0         ['dense_53[0][0]']            \n",
            "                                                                                                  \n",
            " dense_54 (Dense)            (None, 1024, 64)             4160      ['dropout_38[0][0]']          \n",
            "                                                                                                  \n",
            " dropout_39 (Dropout)        (None, 1024, 64)             0         ['dense_54[0][0]']            \n",
            "                                                                                                  \n",
            " add_27 (Add)                (None, 1024, 64)             0         ['dropout_39[0][0]',          \n",
            "                                                                     'add_26[0][0]']              \n",
            "                                                                                                  \n",
            " layer_normalization_28 (La  (None, 1024, 64)             128       ['add_27[0][0]']              \n",
            " yerNormalization)                                                                                \n",
            "                                                                                                  \n",
            " dense_55 (Dense)            (None, 1024, 256)            16640     ['layer_normalization_28[0][0]\n",
            "                                                                    ']                            \n",
            "                                                                                                  \n",
            " tf.reshape_12 (TFOpLambda)  (None, 1024, 16, 16)         0         ['dense_55[0][0]']            \n",
            "                                                                                                  \n",
            " tf.compat.v1.transpose_12   (None, 16, 1024, 16)         0         ['tf.reshape_12[0][0]']       \n",
            " (TFOpLambda)                                                                                     \n",
            "                                                                                                  \n",
            " dense_56 (Dense)            (None, 16, 1024, 16)         272       ['tf.compat.v1.transpose_12[0]\n",
            "                                                                    [0]']                         \n",
            "                                                                                                  \n",
            " softmax_6 (Softmax)         (None, 16, 1024, 16)         0         ['dense_56[0][0]']            \n",
            "                                                                                                  \n",
            " tf.math.reduce_sum_6 (TFOp  (None, 16, 1024, 1)          0         ['softmax_6[0][0]']           \n",
            " Lambda)                                                                                          \n",
            "                                                                                                  \n",
            " tf.__operators__.add_6 (TF  (None, 16, 1024, 1)          0         ['tf.math.reduce_sum_6[0][0]']\n",
            " OpLambda)                                                                                        \n",
            "                                                                                                  \n",
            " tf.math.truediv_6 (TFOpLam  (None, 16, 1024, 16)         0         ['softmax_6[0][0]',           \n",
            " bda)                                                                'tf.__operators__.add_6[0][0]\n",
            "                                                                    ']                            \n",
            "                                                                                                  \n",
            " dropout_40 (Dropout)        (None, 16, 1024, 16)         0         ['tf.math.truediv_6[0][0]']   \n",
            "                                                                                                  \n",
            " dense_57 (Dense)            (None, 16, 1024, 16)         272       ['dropout_40[0][0]']          \n",
            "                                                                                                  \n",
            " tf.compat.v1.transpose_13   (None, 1024, 16, 16)         0         ['dense_57[0][0]']            \n",
            " (TFOpLambda)                                                                                     \n",
            "                                                                                                  \n",
            " tf.reshape_13 (TFOpLambda)  (None, 1024, 256)            0         ['tf.compat.v1.transpose_13[0]\n",
            "                                                                    [0]']                         \n",
            "                                                                                                  \n",
            " dense_58 (Dense)            (None, 1024, 64)             16448     ['tf.reshape_13[0][0]']       \n",
            "                                                                                                  \n",
            " dropout_41 (Dropout)        (None, 1024, 64)             0         ['dense_58[0][0]']            \n",
            "                                                                                                  \n",
            " add_28 (Add)                (None, 1024, 64)             0         ['dropout_41[0][0]',          \n",
            "                                                                     'add_27[0][0]']              \n",
            "                                                                                                  \n",
            " layer_normalization_29 (La  (None, 1024, 64)             128       ['add_28[0][0]']              \n",
            " yerNormalization)                                                                                \n",
            "                                                                                                  \n",
            " dense_59 (Dense)            (None, 1024, 64)             4160      ['layer_normalization_29[0][0]\n",
            "                                                                    ']                            \n",
            "                                                                                                  \n",
            " dropout_42 (Dropout)        (None, 1024, 64)             0         ['dense_59[0][0]']            \n",
            "                                                                                                  \n",
            " dense_60 (Dense)            (None, 1024, 64)             4160      ['dropout_42[0][0]']          \n",
            "                                                                                                  \n",
            " dropout_43 (Dropout)        (None, 1024, 64)             0         ['dense_60[0][0]']            \n",
            "                                                                                                  \n",
            " add_29 (Add)                (None, 1024, 64)             0         ['dropout_43[0][0]',          \n",
            "                                                                     'add_28[0][0]']              \n",
            "                                                                                                  \n",
            " layer_normalization_30 (La  (None, 1024, 64)             128       ['add_29[0][0]']              \n",
            " yerNormalization)                                                                                \n",
            "                                                                                                  \n",
            " dense_61 (Dense)            (None, 1024, 256)            16640     ['layer_normalization_30[0][0]\n",
            "                                                                    ']                            \n",
            "                                                                                                  \n",
            " tf.reshape_14 (TFOpLambda)  (None, 1024, 16, 16)         0         ['dense_61[0][0]']            \n",
            "                                                                                                  \n",
            " tf.compat.v1.transpose_14   (None, 16, 1024, 16)         0         ['tf.reshape_14[0][0]']       \n",
            " (TFOpLambda)                                                                                     \n",
            "                                                                                                  \n",
            " dense_62 (Dense)            (None, 16, 1024, 16)         272       ['tf.compat.v1.transpose_14[0]\n",
            "                                                                    [0]']                         \n",
            "                                                                                                  \n",
            " softmax_7 (Softmax)         (None, 16, 1024, 16)         0         ['dense_62[0][0]']            \n",
            "                                                                                                  \n",
            " tf.math.reduce_sum_7 (TFOp  (None, 16, 1024, 1)          0         ['softmax_7[0][0]']           \n",
            " Lambda)                                                                                          \n",
            "                                                                                                  \n",
            " tf.__operators__.add_7 (TF  (None, 16, 1024, 1)          0         ['tf.math.reduce_sum_7[0][0]']\n",
            " OpLambda)                                                                                        \n",
            "                                                                                                  \n",
            " tf.math.truediv_7 (TFOpLam  (None, 16, 1024, 16)         0         ['softmax_7[0][0]',           \n",
            " bda)                                                                'tf.__operators__.add_7[0][0]\n",
            "                                                                    ']                            \n",
            "                                                                                                  \n",
            " dropout_44 (Dropout)        (None, 16, 1024, 16)         0         ['tf.math.truediv_7[0][0]']   \n",
            "                                                                                                  \n",
            " dense_63 (Dense)            (None, 16, 1024, 16)         272       ['dropout_44[0][0]']          \n",
            "                                                                                                  \n",
            " tf.compat.v1.transpose_15   (None, 1024, 16, 16)         0         ['dense_63[0][0]']            \n",
            " (TFOpLambda)                                                                                     \n",
            "                                                                                                  \n",
            " tf.reshape_15 (TFOpLambda)  (None, 1024, 256)            0         ['tf.compat.v1.transpose_15[0]\n",
            "                                                                    [0]']                         \n",
            "                                                                                                  \n",
            " dense_64 (Dense)            (None, 1024, 64)             16448     ['tf.reshape_15[0][0]']       \n",
            "                                                                                                  \n",
            " dropout_45 (Dropout)        (None, 1024, 64)             0         ['dense_64[0][0]']            \n",
            "                                                                                                  \n",
            " add_30 (Add)                (None, 1024, 64)             0         ['dropout_45[0][0]',          \n",
            "                                                                     'add_29[0][0]']              \n",
            "                                                                                                  \n",
            " layer_normalization_31 (La  (None, 1024, 64)             128       ['add_30[0][0]']              \n",
            " yerNormalization)                                                                                \n",
            "                                                                                                  \n",
            " dense_65 (Dense)            (None, 1024, 64)             4160      ['layer_normalization_31[0][0]\n",
            "                                                                    ']                            \n",
            "                                                                                                  \n",
            " dropout_46 (Dropout)        (None, 1024, 64)             0         ['dense_65[0][0]']            \n",
            "                                                                                                  \n",
            " dense_66 (Dense)            (None, 1024, 64)             4160      ['dropout_46[0][0]']          \n",
            "                                                                                                  \n",
            " dropout_47 (Dropout)        (None, 1024, 64)             0         ['dense_66[0][0]']            \n",
            "                                                                                                  \n",
            " add_31 (Add)                (None, 1024, 64)             0         ['dropout_47[0][0]',          \n",
            "                                                                     'add_30[0][0]']              \n",
            "                                                                                                  \n",
            " global_average_pooling1d_1  (None, 64)                   0         ['add_31[0][0]']              \n",
            "  (GlobalAveragePooling1D)                                                                        \n",
            "                                                                                                  \n",
            " dense_67 (Dense)            (None, 4)                    260       ['global_average_pooling1d_1[0\n",
            "                                                                    ][0]']                        \n",
            "                                                                                                  \n",
            "==================================================================================================\n",
            "Total params: 404299 (1.54 MB)\n",
            "Trainable params: 404292 (1.54 MB)\n",
            "Non-trainable params: 7 (32.00 Byte)\n",
            "__________________________________________________________________________________________________\n"
          ]
        }
      ],
      "source": [
        "model_EA = get_model(attention_type=\"external_attention\")\n",
        "model_EA.summary()"
      ]
    },
    {
      "cell_type": "code",
      "source": [
        "history_EA = run_experiment(model_EA)"
      ],
      "metadata": {
        "colab": {
          "base_uri": "https://localhost:8080/"
        },
        "outputId": "8bdb5dcb-aff5-41f6-e043-076ad3f20d12",
        "id": "vDbtPHdJzuxM"
      },
      "execution_count": null,
      "outputs": [
        {
          "output_type": "stream",
          "name": "stdout",
          "text": [
            "Epoch 1/100\n"
          ]
        },
        {
          "output_type": "stream",
          "name": "stderr",
          "text": [
            "/usr/local/lib/python3.10/dist-packages/keras/src/backend.py:5575: UserWarning: \"`categorical_crossentropy` received `from_logits=True`, but the `output` argument was produced by a Softmax activation and thus does not represent logits. Was this intended?\n",
            "  output, from_logits = _get_logits(\n"
          ]
        },
        {
          "output_type": "stream",
          "name": "stdout",
          "text": [
            "28/28 [==============================] - 17s 167ms/step - loss: 29.1182 - accuracy: 0.2342 - top5-acc: 1.0000 - Brier score: 0.3595 - F1 score: 0.2332 - Recall: 0.2319 - Precision: 0.2354 - AUC: 0.4951 - val_loss: 9.0813 - val_accuracy: 0.1939 - val_top5-acc: 1.0000 - val_Brier score: 0.3434 - val_F1 score: 0.1303 - val_Recall: 0.1735 - val_Precision: 0.1809 - val_AUC: 0.4827 - lr: 0.0010\n",
            "Epoch 2/100\n",
            "28/28 [==============================] - 3s 80ms/step - loss: 4.0121 - accuracy: 0.2557 - top5-acc: 1.0000 - Brier score: 0.2893 - F1 score: 0.2563 - Recall: 0.2342 - Precision: 0.2607 - AUC: 0.5125 - val_loss: 1.6466 - val_accuracy: 0.3367 - val_top5-acc: 1.0000 - val_Brier score: 0.2094 - val_F1 score: 0.2853 - val_Recall: 0.2347 - val_Precision: 0.3966 - val_AUC: 0.6071 - lr: 0.0010\n",
            "Epoch 3/100\n",
            "28/28 [==============================] - 3s 81ms/step - loss: 1.6808 - accuracy: 0.3247 - top5-acc: 1.0000 - Brier score: 0.2120 - F1 score: 0.3276 - Recall: 0.2036 - Precision: 0.3333 - AUC: 0.6014 - val_loss: 1.3536 - val_accuracy: 0.3673 - val_top5-acc: 1.0000 - val_Brier score: 0.1833 - val_F1 score: 0.3310 - val_Recall: 0.2041 - val_Precision: 0.4878 - val_AUC: 0.6488 - lr: 0.0010\n",
            "Epoch 4/100\n",
            "28/28 [==============================] - 3s 80ms/step - loss: 1.6068 - accuracy: 0.3066 - top5-acc: 1.0000 - Brier score: 0.2106 - F1 score: 0.3107 - Recall: 0.1934 - Precision: 0.3226 - AUC: 0.6009 - val_loss: 1.2049 - val_accuracy: 0.4388 - val_top5-acc: 1.0000 - val_Brier score: 0.1627 - val_F1 score: 0.3822 - val_Recall: 0.2653 - val_Precision: 0.5098 - val_AUC: 0.7457 - lr: 0.0010\n",
            "Epoch 5/100\n",
            "28/28 [==============================] - 3s 79ms/step - loss: 1.8177 - accuracy: 0.3518 - top5-acc: 1.0000 - Brier score: 0.2136 - F1 score: 0.3552 - Recall: 0.2342 - Precision: 0.3462 - AUC: 0.6096 - val_loss: 1.0937 - val_accuracy: 0.5408 - val_top5-acc: 1.0000 - val_Brier score: 0.1488 - val_F1 score: 0.4284 - val_Recall: 0.3571 - val_Precision: 0.6604 - val_AUC: 0.7918 - lr: 0.0010\n",
            "Epoch 6/100\n",
            "28/28 [==============================] - 3s 78ms/step - loss: 1.7482 - accuracy: 0.3360 - top5-acc: 1.0000 - Brier score: 0.2138 - F1 score: 0.3359 - Recall: 0.2342 - Precision: 0.3433 - AUC: 0.6233 - val_loss: 1.3218 - val_accuracy: 0.3469 - val_top5-acc: 1.0000 - val_Brier score: 0.1757 - val_F1 score: 0.3574 - val_Recall: 0.0816 - val_Precision: 0.3810 - val_AUC: 0.6750 - lr: 0.0010\n",
            "Epoch 7/100\n",
            "28/28 [==============================] - 3s 80ms/step - loss: 1.8608 - accuracy: 0.3710 - top5-acc: 1.0000 - Brier score: 0.2152 - F1 score: 0.3834 - Recall: 0.3111 - Precision: 0.3857 - AUC: 0.6485 - val_loss: 1.4434 - val_accuracy: 0.3469 - val_top5-acc: 1.0000 - val_Brier score: 0.1808 - val_F1 score: 0.2563 - val_Recall: 0.3061 - val_Precision: 0.5263 - val_AUC: 0.6777 - lr: 0.0010\n",
            "Epoch 8/100\n",
            "28/28 [==============================] - 3s 79ms/step - loss: 1.6572 - accuracy: 0.3518 - top5-acc: 1.0000 - Brier score: 0.2112 - F1 score: 0.3570 - Recall: 0.2523 - Precision: 0.3620 - AUC: 0.6425 - val_loss: 1.6074 - val_accuracy: 0.4490 - val_top5-acc: 1.0000 - val_Brier score: 0.2098 - val_F1 score: 0.2948 - val_Recall: 0.4286 - val_Precision: 0.4468 - val_AUC: 0.7046 - lr: 0.0010\n",
            "Epoch 9/100\n",
            "28/28 [==============================] - 3s 78ms/step - loss: 1.4798 - accuracy: 0.3563 - top5-acc: 1.0000 - Brier score: 0.1986 - F1 score: 0.3659 - Recall: 0.2681 - Precision: 0.3970 - AUC: 0.6595 - val_loss: 1.1744 - val_accuracy: 0.5408 - val_top5-acc: 1.0000 - val_Brier score: 0.1517 - val_F1 score: 0.3787 - val_Recall: 0.3776 - val_Precision: 0.6981 - val_AUC: 0.7699 - lr: 0.0010\n",
            "Epoch 10/100\n",
            "28/28 [==============================] - 3s 78ms/step - loss: 1.3752 - accuracy: 0.3710 - top5-acc: 1.0000 - Brier score: 0.1874 - F1 score: 0.3763 - Recall: 0.2172 - Precision: 0.4220 - AUC: 0.6643 - val_loss: 1.8211 - val_accuracy: 0.3980 - val_top5-acc: 1.0000 - val_Brier score: 0.2001 - val_F1 score: 0.2993 - val_Recall: 0.3980 - val_Precision: 0.4588 - val_AUC: 0.6201 - lr: 0.0010\n",
            "Epoch 11/100\n",
            "28/28 [==============================] - 3s 80ms/step - loss: 1.3257 - accuracy: 0.3620 - top5-acc: 1.0000 - Brier score: 0.1817 - F1 score: 0.3693 - Recall: 0.1923 - Precision: 0.4261 - AUC: 0.6680 - val_loss: 1.2980 - val_accuracy: 0.4184 - val_top5-acc: 1.0000 - val_Brier score: 0.1699 - val_F1 score: 0.3019 - val_Recall: 0.2653 - val_Precision: 0.5000 - val_AUC: 0.7209 - lr: 5.0000e-04\n",
            "Epoch 12/100\n",
            "28/28 [==============================] - 3s 80ms/step - loss: 1.3111 - accuracy: 0.3835 - top5-acc: 1.0000 - Brier score: 0.1785 - F1 score: 0.3876 - Recall: 0.1889 - Precision: 0.4731 - AUC: 0.6785 - val_loss: 1.1346 - val_accuracy: 0.4184 - val_top5-acc: 1.0000 - val_Brier score: 0.1570 - val_F1 score: 0.3475 - val_Recall: 0.2143 - val_Precision: 0.6562 - val_AUC: 0.7580 - lr: 5.0000e-04\n",
            "Epoch 13/100\n",
            "28/28 [==============================] - 3s 79ms/step - loss: 1.2538 - accuracy: 0.4027 - top5-acc: 1.0000 - Brier score: 0.1735 - F1 score: 0.4101 - Recall: 0.1776 - Precision: 0.5199 - AUC: 0.6881 - val_loss: 1.0754 - val_accuracy: 0.5714 - val_top5-acc: 1.0000 - val_Brier score: 0.1488 - val_F1 score: 0.4840 - val_Recall: 0.2755 - val_Precision: 0.6429 - val_AUC: 0.7933 - lr: 5.0000e-04\n",
            "Epoch 14/100\n",
            "28/28 [==============================] - 3s 79ms/step - loss: 1.2629 - accuracy: 0.3812 - top5-acc: 1.0000 - Brier score: 0.1743 - F1 score: 0.3883 - Recall: 0.1652 - Precision: 0.5348 - AUC: 0.6896 - val_loss: 1.2754 - val_accuracy: 0.4082 - val_top5-acc: 1.0000 - val_Brier score: 0.1747 - val_F1 score: 0.3953 - val_Recall: 0.1122 - val_Precision: 0.5238 - val_AUC: 0.6768 - lr: 5.0000e-04\n",
            "Epoch 15/100\n",
            "28/28 [==============================] - 3s 78ms/step - loss: 1.2890 - accuracy: 0.3925 - top5-acc: 1.0000 - Brier score: 0.1761 - F1 score: 0.3979 - Recall: 0.2104 - Precision: 0.4806 - AUC: 0.6926 - val_loss: 1.2686 - val_accuracy: 0.4082 - val_top5-acc: 1.0000 - val_Brier score: 0.1635 - val_F1 score: 0.3207 - val_Recall: 0.2449 - val_Precision: 0.7742 - val_AUC: 0.7011 - lr: 5.0000e-04\n",
            "Epoch 16/100\n",
            "28/28 [==============================] - 3s 80ms/step - loss: 1.4419 - accuracy: 0.3665 - top5-acc: 1.0000 - Brier score: 0.1961 - F1 score: 0.3737 - Recall: 0.2195 - Precision: 0.3819 - AUC: 0.6573 - val_loss: 1.3866 - val_accuracy: 0.4592 - val_top5-acc: 1.0000 - val_Brier score: 0.1774 - val_F1 score: 0.3766 - val_Recall: 0.2959 - val_Precision: 0.5000 - val_AUC: 0.7092 - lr: 5.0000e-04\n",
            "Epoch 17/100\n",
            "28/28 [==============================] - 3s 78ms/step - loss: 1.4563 - accuracy: 0.3710 - top5-acc: 1.0000 - Brier score: 0.1909 - F1 score: 0.3760 - Recall: 0.2466 - Precision: 0.4217 - AUC: 0.6595 - val_loss: 1.3532 - val_accuracy: 0.4286 - val_top5-acc: 1.0000 - val_Brier score: 0.1712 - val_F1 score: 0.3262 - val_Recall: 0.2959 - val_Precision: 0.6744 - val_AUC: 0.6821 - lr: 5.0000e-04\n",
            "Epoch 18/100\n",
            "28/28 [==============================] - 3s 79ms/step - loss: 1.2716 - accuracy: 0.3925 - top5-acc: 1.0000 - Brier score: 0.1792 - F1 score: 0.4024 - Recall: 0.2262 - Precision: 0.4587 - AUC: 0.6867 - val_loss: 1.2030 - val_accuracy: 0.3980 - val_top5-acc: 1.0000 - val_Brier score: 0.1646 - val_F1 score: 0.3178 - val_Recall: 0.2653 - val_Precision: 0.5652 - val_AUC: 0.7310 - lr: 5.0000e-04\n",
            "Epoch 19/100\n",
            "28/28 [==============================] - 3s 80ms/step - loss: 1.1965 - accuracy: 0.4208 - top5-acc: 1.0000 - Brier score: 0.1677 - F1 score: 0.4302 - Recall: 0.1923 - Precision: 0.5397 - AUC: 0.7171 - val_loss: 1.0654 - val_accuracy: 0.5510 - val_top5-acc: 1.0000 - val_Brier score: 0.1462 - val_F1 score: 0.4121 - val_Recall: 0.3265 - val_Precision: 0.6957 - val_AUC: 0.7973 - lr: 2.5000e-04\n",
            "Epoch 20/100\n",
            "28/28 [==============================] - 3s 79ms/step - loss: 1.2064 - accuracy: 0.4265 - top5-acc: 1.0000 - Brier score: 0.1677 - F1 score: 0.4351 - Recall: 0.1776 - Precision: 0.5880 - AUC: 0.7147 - val_loss: 1.1300 - val_accuracy: 0.4184 - val_top5-acc: 1.0000 - val_Brier score: 0.1565 - val_F1 score: 0.3894 - val_Recall: 0.2041 - val_Precision: 0.7692 - val_AUC: 0.7524 - lr: 2.5000e-04\n",
            "Epoch 21/100\n",
            "28/28 [==============================] - 3s 79ms/step - loss: 1.1909 - accuracy: 0.3801 - top5-acc: 1.0000 - Brier score: 0.1681 - F1 score: 0.3894 - Recall: 0.1335 - Precision: 0.6277 - AUC: 0.6962 - val_loss: 1.0722 - val_accuracy: 0.5408 - val_top5-acc: 1.0000 - val_Brier score: 0.1463 - val_F1 score: 0.4401 - val_Recall: 0.1837 - val_Precision: 0.6923 - val_AUC: 0.8033 - lr: 2.5000e-04\n",
            "Epoch 22/100\n",
            "28/28 [==============================] - 3s 79ms/step - loss: 1.1613 - accuracy: 0.4163 - top5-acc: 1.0000 - Brier score: 0.1649 - F1 score: 0.4267 - Recall: 0.1516 - Precision: 0.6091 - AUC: 0.7243 - val_loss: 1.0594 - val_accuracy: 0.5408 - val_top5-acc: 1.0000 - val_Brier score: 0.1507 - val_F1 score: 0.4255 - val_Recall: 0.1939 - val_Precision: 0.5278 - val_AUC: 0.7962 - lr: 2.5000e-04\n",
            "Epoch 23/100\n",
            "28/28 [==============================] - 3s 79ms/step - loss: 1.2410 - accuracy: 0.3654 - top5-acc: 1.0000 - Brier score: 0.1749 - F1 score: 0.3693 - Recall: 0.1527 - Precision: 0.4856 - AUC: 0.6839 - val_loss: 1.0937 - val_accuracy: 0.4082 - val_top5-acc: 1.0000 - val_Brier score: 0.1540 - val_F1 score: 0.3541 - val_Recall: 0.1429 - val_Precision: 0.7000 - val_AUC: 0.7694 - lr: 2.5000e-04\n",
            "Epoch 24/100\n",
            "28/28 [==============================] - 3s 78ms/step - loss: 1.2573 - accuracy: 0.3835 - top5-acc: 1.0000 - Brier score: 0.1738 - F1 score: 0.3885 - Recall: 0.1538 - Precision: 0.5094 - AUC: 0.6922 - val_loss: 1.0811 - val_accuracy: 0.5306 - val_top5-acc: 1.0000 - val_Brier score: 0.1515 - val_F1 score: 0.4126 - val_Recall: 0.2653 - val_Precision: 0.5532 - val_AUC: 0.7868 - lr: 2.5000e-04\n",
            "Epoch 25/100\n",
            "28/28 [==============================] - 3s 80ms/step - loss: 1.1920 - accuracy: 0.4186 - top5-acc: 1.0000 - Brier score: 0.1696 - F1 score: 0.4285 - Recall: 0.1833 - Precision: 0.5277 - AUC: 0.7068 - val_loss: 1.0880 - val_accuracy: 0.5306 - val_top5-acc: 1.0000 - val_Brier score: 0.1473 - val_F1 score: 0.4368 - val_Recall: 0.2143 - val_Precision: 0.7778 - val_AUC: 0.7970 - lr: 2.5000e-04\n",
            "Epoch 26/100\n",
            "28/28 [==============================] - 3s 79ms/step - loss: 1.2467 - accuracy: 0.3982 - top5-acc: 1.0000 - Brier score: 0.1728 - F1 score: 0.4012 - Recall: 0.1640 - Precision: 0.5311 - AUC: 0.6894 - val_loss: 1.1139 - val_accuracy: 0.4490 - val_top5-acc: 1.0000 - val_Brier score: 0.1558 - val_F1 score: 0.3819 - val_Recall: 0.2143 - val_Precision: 0.7000 - val_AUC: 0.7563 - lr: 2.5000e-04\n",
            "Epoch 27/100\n",
            "28/28 [==============================] - 3s 78ms/step - loss: 1.2439 - accuracy: 0.4152 - top5-acc: 1.0000 - Brier score: 0.1722 - F1 score: 0.4222 - Recall: 0.2127 - Precision: 0.5027 - AUC: 0.7006 - val_loss: 1.1512 - val_accuracy: 0.3878 - val_top5-acc: 1.0000 - val_Brier score: 0.1607 - val_F1 score: 0.3048 - val_Recall: 0.2245 - val_Precision: 0.6471 - val_AUC: 0.7523 - lr: 2.5000e-04\n",
            "Epoch 28/100\n",
            "28/28 [==============================] - 3s 78ms/step - loss: 1.2219 - accuracy: 0.3665 - top5-acc: 1.0000 - Brier score: 0.1719 - F1 score: 0.3766 - Recall: 0.1403 - Precision: 0.5345 - AUC: 0.6940 - val_loss: 1.0880 - val_accuracy: 0.4898 - val_top5-acc: 1.0000 - val_Brier score: 0.1507 - val_F1 score: 0.4279 - val_Recall: 0.1939 - val_Precision: 0.7600 - val_AUC: 0.7844 - lr: 1.2500e-04\n",
            "Epoch 29/100\n",
            "28/28 [==============================] - 3s 79ms/step - loss: 1.1576 - accuracy: 0.4072 - top5-acc: 1.0000 - Brier score: 0.1652 - F1 score: 0.4083 - Recall: 0.1448 - Precision: 0.6275 - AUC: 0.7154 - val_loss: 1.0947 - val_accuracy: 0.5102 - val_top5-acc: 1.0000 - val_Brier score: 0.1490 - val_F1 score: 0.4118 - val_Recall: 0.2041 - val_Precision: 0.7407 - val_AUC: 0.7895 - lr: 1.2500e-04\n",
            "Epoch 30/100\n",
            "28/28 [==============================] - 3s 79ms/step - loss: 1.1433 - accuracy: 0.4310 - top5-acc: 1.0000 - Brier score: 0.1622 - F1 score: 0.4351 - Recall: 0.1674 - Precision: 0.6820 - AUC: 0.7267 - val_loss: 1.0744 - val_accuracy: 0.5510 - val_top5-acc: 1.0000 - val_Brier score: 0.1472 - val_F1 score: 0.4932 - val_Recall: 0.1837 - val_Precision: 0.7826 - val_AUC: 0.8072 - lr: 1.2500e-04\n",
            "Epoch 31/100\n",
            "28/28 [==============================] - 3s 78ms/step - loss: 1.2035 - accuracy: 0.3948 - top5-acc: 1.0000 - Brier score: 0.1689 - F1 score: 0.4013 - Recall: 0.1516 - Precision: 0.6381 - AUC: 0.6956 - val_loss: 1.0633 - val_accuracy: 0.5306 - val_top5-acc: 1.0000 - val_Brier score: 0.1472 - val_F1 score: 0.4793 - val_Recall: 0.1837 - val_Precision: 0.7500 - val_AUC: 0.8146 - lr: 1.2500e-04\n",
            "Epoch 32/100\n",
            "28/28 [==============================] - 3s 80ms/step - loss: 1.1835 - accuracy: 0.4016 - top5-acc: 1.0000 - Brier score: 0.1661 - F1 score: 0.4038 - Recall: 0.1493 - Precision: 0.5919 - AUC: 0.7170 - val_loss: 1.0779 - val_accuracy: 0.4592 - val_top5-acc: 1.0000 - val_Brier score: 0.1497 - val_F1 score: 0.3857 - val_Recall: 0.1735 - val_Precision: 0.7727 - val_AUC: 0.7930 - lr: 1.2500e-04\n"
          ]
        }
      ]
    },
    {
      "cell_type": "code",
      "source": [
        "plot_training_curves(history_EA, 'Chest Cancer, EA Transfomer')"
      ],
      "metadata": {
        "colab": {
          "base_uri": "https://localhost:8080/",
          "height": 287
        },
        "id": "8G9lZwDhzuxN",
        "outputId": "c227608b-dab8-4ea8-d60a-d0244d511105"
      },
      "execution_count": null,
      "outputs": [
        {
          "output_type": "display_data",
          "data": {
            "text/plain": [
              "<Figure size 1000x250 with 2 Axes>"
            ],
            "image/png": "[encoded data removed]"
          },
          "metadata": {}
        }
      ]
    }
  ]
}